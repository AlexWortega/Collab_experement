{
  "nbformat": 4,
  "nbformat_minor": 0,
  "metadata": {
    "accelerator": "TPU",
    "colab": {
      "name": "2ch gpt.ipynb\"",
      "provenance": [],
      "collapsed_sections": [],
      "toc_visible": true,
      "machine_shape": "hm",
      "include_colab_link": true
    },
    "kernelspec": {
      "display_name": "Python 3",
      "language": "python",
      "name": "python3"
    },
    "language_info": {
      "codemirror_mode": {
        "name": "ipython",
        "version": 3
      },
      "file_extension": ".py",
      "mimetype": "text/x-python",
      "name": "python",
      "nbconvert_exporter": "python",
      "pygments_lexer": "ipython3",
      "version": "3.7.8"
    }
  },
  "cells": [
    {
      "cell_type": "markdown",
      "metadata": {
        "id": "view-in-github",
        "colab_type": "text"
      },
      "source": [
        "<a href=\"https://colab.research.google.com/github/AlexWortega/Collab_experement/blob/main/2chgpt.ipynb\" target=\"_parent\"><img src=\"https://colab.research.google.com/assets/colab-badge.svg\" alt=\"Open In Colab\"/></a>"
      ]
    },
    {
      "cell_type": "markdown",
      "metadata": {
        "id": "BO7MEGbb6mtB"
      },
      "source": [
        "# Finetune RuGPTs in huggingface\n",
        "How to finetune RuGPTs models with huggingface. Example for RuGPT3Small. Nfor other models it will take more GPU memory.\n",
        "\n",
        "This notebook is valid for all RuGPTs models except RuGPT3XL.\n",
        "## Install env"
      ]
    },
    {
      "cell_type": "code",
      "metadata": {
        "id": "H73-Pizb6c8n",
        "colab": {
          "base_uri": "https://localhost:8080/"
        },
        "outputId": "a10eae0a-dced-4f0a-96ac-9cbda35c6b2b"
      },
      "source": [
        "!pip3 install transformers==3.5.0"
      ],
      "execution_count": 1,
      "outputs": [
        {
          "output_type": "stream",
          "text": [
            "Collecting transformers==3.5.0\n",
            "\u001b[?25l  Downloading https://files.pythonhosted.org/packages/9c/34/fb092588df61bf33f113ade030d1cbe74fb73a0353648f8dd938a223dce7/transformers-3.5.0-py3-none-any.whl (1.3MB)\n",
            "\u001b[K     |████████████████████████████████| 1.3MB 6.6MB/s \n",
            "\u001b[?25hCollecting sentencepiece==0.1.91\n",
            "\u001b[?25l  Downloading https://files.pythonhosted.org/packages/f2/e2/813dff3d72df2f49554204e7e5f73a3dc0f0eb1e3958a4cad3ef3fb278b7/sentencepiece-0.1.91-cp37-cp37m-manylinux1_x86_64.whl (1.1MB)\n",
            "\u001b[K     |████████████████████████████████| 1.1MB 18.5MB/s \n",
            "\u001b[?25hRequirement already satisfied: numpy in /usr/local/lib/python3.7/dist-packages (from transformers==3.5.0) (1.19.5)\n",
            "Requirement already satisfied: filelock in /usr/local/lib/python3.7/dist-packages (from transformers==3.5.0) (3.0.12)\n",
            "Requirement already satisfied: packaging in /usr/local/lib/python3.7/dist-packages (from transformers==3.5.0) (20.9)\n",
            "Collecting tokenizers==0.9.3\n",
            "\u001b[?25l  Downloading https://files.pythonhosted.org/packages/7b/ac/f5ba028f0f097d855e1541301e946d4672eb0f30b6e25cb2369075f916d2/tokenizers-0.9.3-cp37-cp37m-manylinux1_x86_64.whl (2.9MB)\n",
            "\u001b[K     |████████████████████████████████| 2.9MB 25.4MB/s \n",
            "\u001b[?25hRequirement already satisfied: tqdm>=4.27 in /usr/local/lib/python3.7/dist-packages (from transformers==3.5.0) (4.41.1)\n",
            "Requirement already satisfied: regex!=2019.12.17 in /usr/local/lib/python3.7/dist-packages (from transformers==3.5.0) (2019.12.20)\n",
            "Requirement already satisfied: protobuf in /usr/local/lib/python3.7/dist-packages (from transformers==3.5.0) (3.12.4)\n",
            "Requirement already satisfied: requests in /usr/local/lib/python3.7/dist-packages (from transformers==3.5.0) (2.23.0)\n",
            "Collecting sacremoses\n",
            "\u001b[?25l  Downloading https://files.pythonhosted.org/packages/7d/34/09d19aff26edcc8eb2a01bed8e98f13a1537005d31e95233fd48216eed10/sacremoses-0.0.43.tar.gz (883kB)\n",
            "\u001b[K     |████████████████████████████████| 890kB 55.1MB/s \n",
            "\u001b[?25hRequirement already satisfied: pyparsing>=2.0.2 in /usr/local/lib/python3.7/dist-packages (from packaging->transformers==3.5.0) (2.4.7)\n",
            "Requirement already satisfied: setuptools in /usr/local/lib/python3.7/dist-packages (from protobuf->transformers==3.5.0) (54.0.0)\n",
            "Requirement already satisfied: six>=1.9 in /usr/local/lib/python3.7/dist-packages (from protobuf->transformers==3.5.0) (1.15.0)\n",
            "Requirement already satisfied: urllib3!=1.25.0,!=1.25.1,<1.26,>=1.21.1 in /usr/local/lib/python3.7/dist-packages (from requests->transformers==3.5.0) (1.24.3)\n",
            "Requirement already satisfied: chardet<4,>=3.0.2 in /usr/local/lib/python3.7/dist-packages (from requests->transformers==3.5.0) (3.0.4)\n",
            "Requirement already satisfied: certifi>=2017.4.17 in /usr/local/lib/python3.7/dist-packages (from requests->transformers==3.5.0) (2020.12.5)\n",
            "Requirement already satisfied: idna<3,>=2.5 in /usr/local/lib/python3.7/dist-packages (from requests->transformers==3.5.0) (2.10)\n",
            "Requirement already satisfied: click in /usr/local/lib/python3.7/dist-packages (from sacremoses->transformers==3.5.0) (7.1.2)\n",
            "Requirement already satisfied: joblib in /usr/local/lib/python3.7/dist-packages (from sacremoses->transformers==3.5.0) (1.0.1)\n",
            "Building wheels for collected packages: sacremoses\n",
            "  Building wheel for sacremoses (setup.py) ... \u001b[?25l\u001b[?25hdone\n",
            "  Created wheel for sacremoses: filename=sacremoses-0.0.43-cp37-none-any.whl size=893262 sha256=0fd00ce1a7dd0e4bc4006940cfd8110a365a1d052ee41952cda086ef1fe77a38\n",
            "  Stored in directory: /root/.cache/pip/wheels/29/3c/fd/7ce5c3f0666dab31a50123635e6fb5e19ceb42ce38d4e58f45\n",
            "Successfully built sacremoses\n",
            "Installing collected packages: sentencepiece, tokenizers, sacremoses, transformers\n",
            "Successfully installed sacremoses-0.0.43 sentencepiece-0.1.91 tokenizers-0.9.3 transformers-3.5.0\n"
          ],
          "name": "stdout"
        }
      ]
    },
    {
      "cell_type": "code",
      "metadata": {
        "colab": {
          "base_uri": "https://localhost:8080/"
        },
        "id": "V-3EoKNtJZPH",
        "outputId": "6c58141a-6cf2-428f-df4f-3916c92d8798"
      },
      "source": [
        "pip install dvach.api"
      ],
      "execution_count": 2,
      "outputs": [
        {
          "output_type": "stream",
          "text": [
            "Collecting dvach.api\n",
            "  Downloading https://files.pythonhosted.org/packages/a5/29/b9eecfc2ae066428f89e3932f69f1631358d9ab795185ec868473bf83f64/dvach.api-1.0.0-py3-none-any.whl\n",
            "Collecting addict==2.2.0\n",
            "  Downloading https://files.pythonhosted.org/packages/ca/25/784dc859c978401cb7fba2ad3a29bb51a989abb618b8558cbc89dc2a8a5f/addict-2.2.0.tar.gz\n",
            "Collecting requests==2.21.0\n",
            "\u001b[?25l  Downloading https://files.pythonhosted.org/packages/7d/e3/20f3d364d6c8e5d2353c72a67778eb189176f08e873c9900e10c0287b84b/requests-2.21.0-py2.py3-none-any.whl (57kB)\n",
            "\u001b[K     |████████████████████████████████| 61kB 2.8MB/s \n",
            "\u001b[?25hCollecting simplejson==3.16.0\n",
            "\u001b[?25l  Downloading https://files.pythonhosted.org/packages/e3/24/c35fb1c1c315fc0fffe61ea00d3f88e85469004713dab488dee4f35b0aff/simplejson-3.16.0.tar.gz (81kB)\n",
            "\u001b[K     |████████████████████████████████| 81kB 3.8MB/s \n",
            "\u001b[?25hRequirement already satisfied: certifi>=2017.4.17 in /usr/local/lib/python3.7/dist-packages (from requests==2.21.0->dvach.api) (2020.12.5)\n",
            "Collecting idna<2.9,>=2.5\n",
            "\u001b[?25l  Downloading https://files.pythonhosted.org/packages/14/2c/cd551d81dbe15200be1cf41cd03869a46fe7226e7450af7a6545bfc474c9/idna-2.8-py2.py3-none-any.whl (58kB)\n",
            "\u001b[K     |████████████████████████████████| 61kB 4.6MB/s \n",
            "\u001b[?25hRequirement already satisfied: urllib3<1.25,>=1.21.1 in /usr/local/lib/python3.7/dist-packages (from requests==2.21.0->dvach.api) (1.24.3)\n",
            "Requirement already satisfied: chardet<3.1.0,>=3.0.2 in /usr/local/lib/python3.7/dist-packages (from requests==2.21.0->dvach.api) (3.0.4)\n",
            "Building wheels for collected packages: addict, simplejson\n",
            "  Building wheel for addict (setup.py) ... \u001b[?25l\u001b[?25hdone\n",
            "  Created wheel for addict: filename=addict-2.2.0-cp37-none-any.whl size=2783 sha256=b41584888ab6b954752a960f6a44542966e19b4448cbc657e744e23d26750874\n",
            "  Stored in directory: /root/.cache/pip/wheels/1c/35/37/7a99ee58a72dc257689fb4f99c8018c9513555055e3fb87123\n",
            "  Building wheel for simplejson (setup.py) ... \u001b[?25l\u001b[?25hdone\n",
            "  Created wheel for simplejson: filename=simplejson-3.16.0-cp37-cp37m-linux_x86_64.whl size=114846 sha256=4aeeccb996de50a6c3c808f0b92c27dac6808a18b5a0a5b6ffdd55857d4e7000\n",
            "  Stored in directory: /root/.cache/pip/wheels/5d/1a/1e/0350bb3df3e74215cd91325344cc86c2c691f5306eb4d22c77\n",
            "Successfully built addict simplejson\n",
            "\u001b[31mERROR: google-colab 1.0.0 has requirement requests~=2.23.0, but you'll have requests 2.21.0 which is incompatible.\u001b[0m\n",
            "\u001b[31mERROR: datascience 0.10.6 has requirement folium==0.2.1, but you'll have folium 0.8.3 which is incompatible.\u001b[0m\n",
            "Installing collected packages: addict, idna, requests, simplejson, dvach.api\n",
            "  Found existing installation: idna 2.10\n",
            "    Uninstalling idna-2.10:\n",
            "      Successfully uninstalled idna-2.10\n",
            "  Found existing installation: requests 2.23.0\n",
            "    Uninstalling requests-2.23.0:\n",
            "      Successfully uninstalled requests-2.23.0\n",
            "Successfully installed addict-2.2.0 dvach.api-1.0.0 idna-2.8 requests-2.21.0 simplejson-3.16.0\n"
          ],
          "name": "stdout"
        }
      ]
    },
    {
      "cell_type": "code",
      "metadata": {
        "id": "RSV1JFFf6nrt",
        "colab": {
          "base_uri": "https://localhost:8080/"
        },
        "outputId": "fd447b39-ac74-415b-c027-fc3e0c9d7803"
      },
      "source": [
        "!git clone  https://github.com/sberbank-ai/ru-gpts"
      ],
      "execution_count": 3,
      "outputs": [
        {
          "output_type": "stream",
          "text": [
            "Cloning into 'ru-gpts'...\n",
            "remote: Enumerating objects: 90, done.\u001b[K\n",
            "remote: Counting objects: 100% (90/90), done.\u001b[K\n",
            "remote: Compressing objects: 100% (72/72), done.\u001b[K\n",
            "remote: Total 595 (delta 56), reused 36 (delta 18), pack-reused 505\u001b[K\n",
            "Receiving objects: 100% (595/595), 349.36 KiB | 4.31 MiB/s, done.\n",
            "Resolving deltas: 100% (356/356), done.\n"
          ],
          "name": "stdout"
        }
      ]
    },
    {
      "cell_type": "code",
      "metadata": {
        "id": "WJZtWu8u6nwL"
      },
      "source": [
        "!mkdir models/"
      ],
      "execution_count": 4,
      "outputs": []
    },
    {
      "cell_type": "markdown",
      "metadata": {
        "id": "WqwZiumW8WbZ"
      },
      "source": [
        "## Download files"
      ]
    },
    {
      "cell_type": "code",
      "metadata": {
        "colab": {
          "base_uri": "https://localhost:8080/"
        },
        "id": "ICkLTWm8NKsT",
        "outputId": "f7f13c34-66b0-4e82-f902-9ab21469d707"
      },
      "source": [
        "import api2ch\n",
        "brds= ['b','d','sn','cc','soc','po','un','o','po']\n",
        "ch = []\n",
        "for b in brds:\n",
        "\n",
        "  api = api2ch.DvachApi(b)\n",
        "\n",
        "  board = api.get_board()\n",
        "\n",
        "  print(f'Total {len(board)} threads in {api.board.id}')\n",
        "  for thread in board:\n",
        "      ch+=[(thread.post.comment)]\n",
        "    \n"
      ],
      "execution_count": 5,
      "outputs": [
        {
          "output_type": "stream",
          "text": [
            "Total 210 threads in b\n",
            "Total 136 threads in d\n",
            "Total 193 threads in sn\n",
            "Total 356 threads in cc\n",
            "Total 129 threads in soc\n",
            "Total 172 threads in po\n",
            "Total 78 threads in un\n",
            "Total 140 threads in o\n",
            "Total 172 threads in po\n"
          ],
          "name": "stdout"
        }
      ]
    },
    {
      "cell_type": "code",
      "metadata": {
        "colab": {
          "base_uri": "https://localhost:8080/"
        },
        "id": "QSKC-p1_PB75",
        "outputId": "b59aa39b-2ee0-4fe1-c0ec-25e66258862c"
      },
      "source": [
        "len(ch)"
      ],
      "execution_count": 6,
      "outputs": [
        {
          "output_type": "execute_result",
          "data": {
            "text/plain": [
              "1586"
            ]
          },
          "metadata": {
            "tags": []
          },
          "execution_count": 6
        }
      ]
    },
    {
      "cell_type": "code",
      "metadata": {
        "id": "O0LNL5w8OAt8"
      },
      "source": [
        "val = ch[:len(ch)//2]\n",
        "train = ch[len(ch)//2:] \n",
        "with open(\"val.txt\", \"w\") as txt_file:\n",
        "    for line in val:\n",
        "        txt_file.write(\"\".join(line) + \"\\n\")\n",
        "with open(\"train.txt\", \"w\") as txt_file:\n",
        "    for line in train:\n",
        "        txt_file.write(\"\".join(line) + \"\\n\")"
      ],
      "execution_count": 7,
      "outputs": []
    },
    {
      "cell_type": "markdown",
      "metadata": {
        "id": "zoyX62qN_38l"
      },
      "source": [
        "## Train \n",
        "The following code download our model and tokenizer from huggingface and finetune model for generating essays.\n",
        "\n",
        "This took aroung ten minutes and obtain perplexity = 13-16"
      ]
    },
    {
      "cell_type": "code",
      "metadata": {
        "id": "aZ-4Kav28cH0",
        "colab": {
          "base_uri": "https://localhost:8080/"
        },
        "outputId": "31503efa-ac53-4213-8d1d-bf85993e39f9"
      },
      "source": [
        "!export PYTHONPATH=${PYTHONPATH}:/ru-gpts/\n",
        "!CUDA_VISIBLE_DEVICES=0 python ru-gpts/pretrain_transformers.py \\\n",
        "    --output_dir=models/essays \\\n",
        "    --model_type=gpt2 \\\n",
        "    --model_name_or_path=sberbank-ai/rugpt3small_based_on_gpt2 \\\n",
        "    --do_train \\\n",
        "    --train_data_file=train.txt \\\n",
        "    --do_eval \\\n",
        "    --eval_data_file=val.txt \\\n",
        "    --per_gpu_train_batch_size 1 \\\n",
        "    --gradient_accumulation_steps 1 \\\n",
        "    --num_train_epochs 5 \\\n",
        "    --block_size 2048 \\\n",
        "    --overwrite_output_dir"
      ],
      "execution_count": 12,
      "outputs": [
        {
          "output_type": "stream",
          "text": [
            "2021-03-06 17:35:43.537138: I tensorflow/stream_executor/platform/default/dso_loader.cc:49] Successfully opened dynamic library libcudart.so.11.0\n",
            "03/06/2021 17:35:45 - WARNING - __main__ -   Process rank: -1, device: cpu, n_gpu: 0, distributed training: False, 16-bits training: False\n",
            "/usr/local/lib/python3.7/dist-packages/transformers/tokenization_utils_base.py:1423: FutureWarning: The `max_len` attribute has been deprecated and will be removed in a future version, use `model_max_length` instead.\n",
            "  FutureWarning,\n",
            "/usr/local/lib/python3.7/dist-packages/transformers/modeling_auto.py:837: FutureWarning: The class `AutoModelWithLMHead` is deprecated and will be removed in a future version. Please use `AutoModelForCausalLM` for causal language models, `AutoModelForMaskedLM` for masked language models and `AutoModelForSeq2SeqLM` for encoder-decoder models.\n",
            "  FutureWarning,\n",
            "03/06/2021 17:35:52 - INFO - __main__ -   Training/evaluation parameters Namespace(adam_epsilon=1e-08, block_size=2048, cache_dir=None, config_name=None, device=device(type='cpu'), do_eval=True, do_train=True, eval_all_checkpoints=False, eval_data_file='val.txt', evaluate_during_training=False, fp16=False, fp16_opt_level='O1', gradient_accumulation_steps=1, learning_rate=5e-05, line_by_line=False, local_rank=-1, logging_steps=500, max_grad_norm=1.0, max_steps=-1, mlm=False, mlm_probability=0.15, model_name_or_path='sberbank-ai/rugpt3small_based_on_gpt2', model_type='gpt2', n_gpu=0, no_cuda=False, num_train_epochs=5.0, output_dir='models/essays', overwrite_cache=False, overwrite_output_dir=True, per_gpu_eval_batch_size=4, per_gpu_train_batch_size=1, save_steps=500, save_total_limit=None, seed=42, server_ip='', server_port='', should_continue=False, tokenizer_name=None, train_data_file='train.txt', warmup_steps=0, weight_decay=0.01)\n",
            "03/06/2021 17:35:52 - INFO - __main__ -   Loading features from cached file gpt2_cached_lm_2048_train.txt\n",
            "03/06/2021 17:35:53 - INFO - __main__ -   ***** Running training *****\n",
            "03/06/2021 17:35:53 - INFO - __main__ -     Num examples = 88\n",
            "03/06/2021 17:35:53 - INFO - __main__ -     Num Epochs = 5\n",
            "03/06/2021 17:35:53 - INFO - __main__ -     Instantaneous batch size per GPU = 1\n",
            "03/06/2021 17:35:53 - INFO - __main__ -     Total train batch size (w. parallel, distributed & accumulation) = 1\n",
            "03/06/2021 17:35:53 - INFO - __main__ -     Gradient Accumulation steps = 1\n",
            "03/06/2021 17:35:53 - INFO - __main__ -     Total optimization steps = 440\n",
            "Epoch:   0% 0/5 [00:00<?, ?it/s]\n",
            "Iteration:   0% 0/88 [00:00<?, ?it/s]\u001b[A\n",
            "Iteration:   1% 1/88 [00:07<10:39,  7.35s/it]\u001b[A\n",
            "Iteration:   2% 2/88 [00:13<10:09,  7.09s/it]\u001b[A\n",
            "Iteration:   3% 3/88 [00:20<09:45,  6.89s/it]\u001b[A\n",
            "Iteration:   5% 4/88 [00:26<09:30,  6.79s/it]\u001b[A\n",
            "Iteration:   6% 5/88 [00:33<09:14,  6.68s/it]\u001b[A\n",
            "Iteration:   7% 6/88 [00:39<09:01,  6.61s/it]\u001b[A\n",
            "Iteration:   8% 7/88 [00:46<08:50,  6.55s/it]\u001b[A\n",
            "Iteration:   9% 8/88 [00:52<08:38,  6.48s/it]\u001b[A\n",
            "Iteration:  10% 9/88 [00:58<08:27,  6.43s/it]\u001b[A\n",
            "Iteration:  11% 10/88 [01:05<08:22,  6.45s/it]\u001b[A\n",
            "Iteration:  12% 11/88 [01:11<08:09,  6.35s/it]\u001b[A\n",
            "Iteration:  14% 12/88 [01:17<07:59,  6.31s/it]\u001b[A\n",
            "Iteration:  15% 13/88 [01:23<07:54,  6.33s/it]\u001b[A\n",
            "Iteration:  16% 14/88 [01:30<07:47,  6.31s/it]\u001b[A\n",
            "Iteration:  17% 15/88 [01:36<07:39,  6.30s/it]\u001b[A\n",
            "Iteration:  18% 16/88 [01:42<07:32,  6.29s/it]\u001b[A\n",
            "Iteration:  19% 17/88 [01:49<07:28,  6.32s/it]\u001b[A\n",
            "Iteration:  20% 18/88 [01:55<07:22,  6.32s/it]\u001b[A\n",
            "Iteration:  22% 19/88 [02:01<07:16,  6.32s/it]\u001b[A\n",
            "Iteration:  23% 20/88 [02:08<07:10,  6.32s/it]\u001b[A\n",
            "Iteration:  24% 21/88 [02:14<07:04,  6.34s/it]\u001b[A\n",
            "Iteration:  25% 22/88 [02:20<06:58,  6.34s/it]\u001b[A\n",
            "Iteration:  26% 23/88 [02:27<06:51,  6.33s/it]\u001b[A\n",
            "Iteration:  27% 24/88 [02:33<06:44,  6.32s/it]\u001b[A\n",
            "Iteration:  28% 25/88 [02:39<06:39,  6.34s/it]\u001b[A\n",
            "Iteration:  30% 26/88 [02:46<06:32,  6.33s/it]\u001b[A\n",
            "Iteration:  31% 27/88 [02:52<06:26,  6.34s/it]\u001b[A\n",
            "Iteration:  32% 28/88 [02:58<06:23,  6.38s/it]\u001b[A\n",
            "Iteration:  33% 29/88 [03:05<06:15,  6.36s/it]\u001b[A\n",
            "Iteration:  34% 30/88 [03:11<06:09,  6.36s/it]\u001b[A\n",
            "Iteration:  35% 31/88 [03:18<06:06,  6.43s/it]\u001b[A\n",
            "Iteration:  36% 32/88 [03:24<06:04,  6.52s/it]\u001b[A\n",
            "Iteration:  38% 33/88 [03:31<05:59,  6.54s/it]\u001b[A\n",
            "Iteration:  39% 34/88 [03:38<05:56,  6.61s/it]\u001b[A\n",
            "Iteration:  40% 35/88 [03:44<05:47,  6.55s/it]\u001b[A\n",
            "Iteration:  41% 36/88 [03:51<05:37,  6.48s/it]\u001b[A\n",
            "Iteration:  42% 37/88 [03:57<05:27,  6.41s/it]\u001b[A\n",
            "Iteration:  43% 38/88 [04:03<05:19,  6.39s/it]\u001b[A\n",
            "Iteration:  44% 39/88 [04:10<05:13,  6.40s/it]\u001b[A\n",
            "Iteration:  45% 40/88 [04:16<05:08,  6.43s/it]\u001b[A\n",
            "Iteration:  47% 41/88 [04:22<05:00,  6.40s/it]\u001b[A\n",
            "Iteration:  48% 42/88 [04:29<04:52,  6.35s/it]\u001b[A\n",
            "Iteration:  49% 43/88 [04:35<04:45,  6.34s/it]\u001b[A\n",
            "Iteration:  50% 44/88 [04:41<04:40,  6.37s/it]\u001b[A\n",
            "Iteration:  51% 45/88 [04:48<04:33,  6.36s/it]\u001b[A\n",
            "Iteration:  52% 46/88 [04:54<04:26,  6.35s/it]\u001b[A\n",
            "Iteration:  53% 47/88 [05:00<04:19,  6.33s/it]\u001b[A\n",
            "Iteration:  55% 48/88 [05:07<04:11,  6.29s/it]\u001b[A\n",
            "Iteration:  56% 49/88 [05:13<04:05,  6.29s/it]\u001b[A\n",
            "Iteration:  57% 50/88 [05:19<03:58,  6.27s/it]\u001b[A\n",
            "Iteration:  58% 51/88 [05:25<03:53,  6.30s/it]\u001b[A\n",
            "Iteration:  59% 52/88 [05:32<03:46,  6.30s/it]\u001b[A\n",
            "Iteration:  60% 53/88 [05:38<03:40,  6.31s/it]\u001b[A\n",
            "Iteration:  61% 54/88 [05:44<03:34,  6.30s/it]\u001b[A\n",
            "Iteration:  62% 55/88 [05:51<03:28,  6.30s/it]\u001b[A\n",
            "Iteration:  64% 56/88 [05:57<03:21,  6.28s/it]\u001b[A\n",
            "Iteration:  65% 57/88 [06:03<03:14,  6.26s/it]\u001b[A\n",
            "Iteration:  66% 58/88 [06:10<03:10,  6.36s/it]\u001b[A\n",
            "Iteration:  67% 59/88 [06:16<03:05,  6.41s/it]\u001b[A\n",
            "Iteration:  68% 60/88 [06:22<02:58,  6.37s/it]\u001b[A\n",
            "Iteration:  69% 61/88 [06:29<02:51,  6.35s/it]\u001b[A\n",
            "Iteration:  70% 62/88 [06:35<02:44,  6.33s/it]\u001b[A\n",
            "Iteration:  72% 63/88 [06:41<02:38,  6.34s/it]\u001b[A\n",
            "Iteration:  73% 64/88 [06:48<02:32,  6.34s/it]\u001b[A\n",
            "Iteration:  74% 65/88 [06:54<02:25,  6.34s/it]\u001b[A\n",
            "Iteration:  75% 66/88 [07:00<02:18,  6.31s/it]\u001b[A\n",
            "Iteration:  76% 67/88 [07:07<02:12,  6.29s/it]\u001b[A\n",
            "Iteration:  77% 68/88 [07:13<02:06,  6.32s/it]\u001b[A\n",
            "Iteration:  78% 69/88 [07:19<01:59,  6.31s/it]\u001b[A\n",
            "Iteration:  80% 70/88 [07:25<01:53,  6.29s/it]\u001b[A\n",
            "Iteration:  81% 71/88 [07:32<01:46,  6.26s/it]\u001b[A\n",
            "Iteration:  82% 72/88 [07:38<01:40,  6.26s/it]\u001b[A\n",
            "Iteration:  83% 73/88 [07:44<01:33,  6.24s/it]\u001b[A\n",
            "Iteration:  84% 74/88 [07:51<01:28,  6.29s/it]\u001b[A\n",
            "Iteration:  85% 75/88 [07:57<01:21,  6.27s/it]\u001b[A\n",
            "Iteration:  86% 76/88 [08:03<01:15,  6.28s/it]\u001b[A\n",
            "Iteration:  88% 77/88 [08:09<01:09,  6.27s/it]\u001b[A\n",
            "Iteration:  89% 78/88 [08:16<01:02,  6.27s/it]\u001b[A\n",
            "Iteration:  90% 79/88 [08:22<00:56,  6.31s/it]\u001b[A\n",
            "Iteration:  91% 80/88 [08:28<00:50,  6.29s/it]\u001b[A\n",
            "Iteration:  92% 81/88 [08:35<00:44,  6.32s/it]\u001b[A\n",
            "Iteration:  93% 82/88 [08:41<00:38,  6.34s/it]\u001b[A\n",
            "Iteration:  94% 83/88 [08:48<00:32,  6.42s/it]\u001b[A\n",
            "Iteration:  95% 84/88 [08:54<00:25,  6.46s/it]\u001b[A\n",
            "Iteration:  97% 85/88 [09:01<00:19,  6.44s/it]\u001b[A\n",
            "Iteration:  98% 86/88 [09:07<00:12,  6.40s/it]\u001b[A\n",
            "Iteration:  99% 87/88 [09:13<00:06,  6.42s/it]\u001b[A\n",
            "Iteration: 100% 88/88 [09:20<00:00,  6.36s/it]\n",
            "Epoch:  20% 1/5 [09:20<37:20, 560.10s/it]\n",
            "Iteration:   0% 0/88 [00:00<?, ?it/s]\u001b[A\n",
            "Iteration:   1% 1/88 [00:06<09:12,  6.36s/it]\u001b[A\n",
            "Iteration:   2% 2/88 [00:12<09:04,  6.34s/it]\u001b[A\n",
            "Iteration:   3% 3/88 [00:18<08:57,  6.32s/it]\u001b[A\n",
            "Iteration:   5% 4/88 [00:25<08:48,  6.29s/it]\u001b[A\n",
            "Iteration:   6% 5/88 [00:31<08:42,  6.30s/it]\u001b[A\n",
            "Iteration:   7% 6/88 [00:37<08:33,  6.26s/it]\u001b[A\n",
            "Iteration:   8% 7/88 [00:43<08:26,  6.26s/it]\u001b[A\n",
            "Iteration:   9% 8/88 [00:50<08:17,  6.22s/it]\u001b[A\n",
            "Iteration:  10% 9/88 [00:56<08:10,  6.21s/it]\u001b[A\n",
            "Iteration:  11% 10/88 [01:02<08:05,  6.22s/it]\u001b[A\n",
            "Iteration:  12% 11/88 [01:08<07:55,  6.18s/it]\u001b[A\n",
            "Iteration:  14% 12/88 [01:14<07:51,  6.21s/it]\u001b[A\n",
            "Iteration:  15% 13/88 [01:21<07:45,  6.21s/it]\u001b[A\n",
            "Iteration:  16% 14/88 [01:27<07:39,  6.20s/it]\u001b[A\n",
            "Iteration:  17% 15/88 [01:33<07:34,  6.22s/it]\u001b[A\n",
            "Iteration:  18% 16/88 [01:39<07:27,  6.22s/it]\u001b[A\n",
            "Iteration:  19% 17/88 [01:45<07:19,  6.19s/it]\u001b[A\n",
            "Iteration:  20% 18/88 [01:52<07:15,  6.21s/it]\u001b[A\n",
            "Iteration:  22% 19/88 [01:58<07:12,  6.27s/it]\u001b[A\n",
            "Iteration:  23% 20/88 [02:04<07:10,  6.33s/it]\u001b[A\n",
            "Iteration:  24% 21/88 [02:11<07:01,  6.29s/it]\u001b[A\n",
            "Iteration:  25% 22/88 [02:17<06:52,  6.26s/it]\u001b[A\n",
            "Iteration:  26% 23/88 [02:23<06:45,  6.24s/it]\u001b[A\n",
            "Iteration:  27% 24/88 [02:29<06:40,  6.26s/it]\u001b[A\n",
            "Iteration:  28% 25/88 [02:36<06:34,  6.26s/it]\u001b[A\n",
            "Iteration:  30% 26/88 [02:42<06:27,  6.25s/it]\u001b[A\n",
            "Iteration:  31% 27/88 [02:48<06:21,  6.25s/it]\u001b[A\n",
            "Iteration:  32% 28/88 [02:54<06:13,  6.23s/it]\u001b[A\n",
            "Iteration:  33% 29/88 [03:00<06:07,  6.24s/it]\u001b[A\n",
            "Iteration:  34% 30/88 [03:07<06:04,  6.28s/it]\u001b[A\n",
            "Iteration:  35% 31/88 [03:13<05:57,  6.26s/it]\u001b[A\n",
            "Iteration:  36% 32/88 [03:19<05:50,  6.26s/it]\u001b[A\n",
            "Iteration:  38% 33/88 [03:26<05:43,  6.25s/it]\u001b[A\n",
            "Iteration:  39% 34/88 [03:32<05:38,  6.27s/it]\u001b[A\n",
            "Iteration:  40% 35/88 [03:38<05:33,  6.29s/it]\u001b[A\n",
            "Iteration:  41% 36/88 [03:45<05:26,  6.29s/it]\u001b[A\n",
            "Iteration:  42% 37/88 [03:51<05:20,  6.28s/it]\u001b[A\n",
            "Iteration:  43% 38/88 [03:57<05:12,  6.26s/it]\u001b[A\n",
            "Iteration:  44% 39/88 [04:03<05:06,  6.26s/it]\u001b[A\n",
            "Iteration:  45% 40/88 [04:10<05:01,  6.29s/it]\u001b[A\n",
            "Iteration:  47% 41/88 [04:16<04:54,  6.27s/it]\u001b[A\n",
            "Iteration:  48% 42/88 [04:22<04:49,  6.28s/it]\u001b[A\n",
            "Iteration:  49% 43/88 [04:28<04:42,  6.29s/it]\u001b[A\n",
            "Iteration:  50% 44/88 [04:35<04:36,  6.28s/it]\u001b[A\n",
            "Iteration:  51% 45/88 [04:41<04:29,  6.28s/it]\u001b[A\n",
            "Iteration:  52% 46/88 [04:48<04:27,  6.36s/it]\u001b[A\n",
            "Iteration:  53% 47/88 [04:54<04:25,  6.47s/it]\u001b[A\n",
            "Iteration:  55% 48/88 [05:01<04:16,  6.42s/it]\u001b[A\n",
            "Iteration:  56% 49/88 [05:07<04:08,  6.37s/it]\u001b[A\n",
            "Iteration:  57% 50/88 [05:13<04:00,  6.32s/it]\u001b[A\n",
            "Iteration:  58% 51/88 [05:19<03:53,  6.30s/it]\u001b[A\n",
            "Iteration:  59% 52/88 [05:25<03:45,  6.28s/it]\u001b[A\n",
            "Iteration:  60% 53/88 [05:32<03:40,  6.31s/it]\u001b[A\n",
            "Iteration:  61% 54/88 [05:38<03:34,  6.30s/it]\u001b[A\n",
            "Iteration:  62% 55/88 [05:44<03:27,  6.29s/it]\u001b[A\n",
            "Iteration:  64% 56/88 [05:51<03:21,  6.30s/it]\u001b[A\n",
            "Iteration:  65% 57/88 [05:57<03:14,  6.29s/it]\u001b[A\n",
            "Iteration:  66% 58/88 [06:03<03:08,  6.28s/it]\u001b[A\n",
            "Iteration:  67% 59/88 [06:10<03:02,  6.29s/it]\u001b[A\n",
            "Iteration:  68% 60/88 [06:16<02:56,  6.31s/it]\u001b[A\n",
            "Iteration:  69% 61/88 [06:22<02:50,  6.33s/it]\u001b[A\n",
            "Iteration:  70% 62/88 [06:29<02:44,  6.33s/it]\u001b[A\n",
            "Iteration:  72% 63/88 [06:35<02:36,  6.28s/it]\u001b[A\n",
            "Iteration:  73% 64/88 [06:41<02:29,  6.25s/it]\u001b[A\n",
            "Iteration:  74% 65/88 [06:47<02:23,  6.23s/it]\u001b[A\n",
            "Iteration:  75% 66/88 [06:54<02:18,  6.28s/it]\u001b[A\n",
            "Iteration:  76% 67/88 [07:00<02:12,  6.31s/it]\u001b[A\n",
            "Iteration:  77% 68/88 [07:06<02:07,  6.37s/it]\u001b[A\n",
            "Iteration:  78% 69/88 [07:13<02:01,  6.41s/it]\u001b[A\n",
            "Iteration:  80% 70/88 [07:19<01:55,  6.42s/it]\u001b[A\n",
            "Iteration:  81% 71/88 [07:26<01:48,  6.39s/it]\u001b[A\n",
            "Iteration:  82% 72/88 [07:32<01:42,  6.38s/it]\u001b[A\n",
            "Iteration:  83% 73/88 [07:39<01:35,  6.40s/it]\u001b[A\n",
            "Iteration:  84% 74/88 [07:45<01:29,  6.39s/it]\u001b[A\n",
            "Iteration:  85% 75/88 [07:51<01:22,  6.37s/it]\u001b[A\n",
            "Iteration:  86% 76/88 [07:58<01:16,  6.37s/it]\u001b[A\n",
            "Iteration:  88% 77/88 [08:04<01:10,  6.38s/it]\u001b[A\n",
            "Iteration:  89% 78/88 [08:10<01:03,  6.40s/it]\u001b[A\n",
            "Iteration:  90% 79/88 [08:17<00:57,  6.39s/it]\u001b[A\n",
            "Iteration:  91% 80/88 [08:23<00:51,  6.39s/it]\u001b[A\n",
            "Iteration:  92% 81/88 [08:30<00:44,  6.39s/it]\u001b[A\n",
            "Iteration:  93% 82/88 [08:36<00:38,  6.41s/it]\u001b[A\n",
            "Iteration:  94% 83/88 [08:42<00:31,  6.38s/it]\u001b[A\n",
            "Iteration:  95% 84/88 [08:49<00:25,  6.36s/it]\u001b[A\n",
            "Iteration:  97% 85/88 [08:55<00:19,  6.34s/it]\u001b[A\n",
            "Iteration:  98% 86/88 [09:01<00:12,  6.34s/it]\u001b[A\n",
            "Iteration:  99% 87/88 [09:08<00:06,  6.35s/it]\u001b[A\n",
            "Iteration: 100% 88/88 [09:14<00:00,  6.30s/it]\n",
            "Epoch:  40% 2/5 [18:34<27:55, 558.45s/it]\n",
            "Iteration:   0% 0/88 [00:00<?, ?it/s]\u001b[A\n",
            "Iteration:   1% 1/88 [00:06<09:16,  6.40s/it]\u001b[A\n",
            "Iteration:   2% 2/88 [00:12<09:09,  6.39s/it]\u001b[A\n",
            "Iteration:   3% 3/88 [00:19<09:02,  6.38s/it]\u001b[A\n",
            "Iteration:   5% 4/88 [00:25<08:53,  6.36s/it]\u001b[A\n",
            "Iteration:   6% 5/88 [00:31<08:45,  6.33s/it]\u001b[A\n",
            "Iteration:   7% 6/88 [00:37<08:36,  6.30s/it]\u001b[A\n",
            "Iteration:   8% 7/88 [00:44<08:36,  6.38s/it]\u001b[A\n",
            "Iteration:   9% 8/88 [00:50<08:32,  6.41s/it]\u001b[A\n",
            "Iteration:  10% 9/88 [00:57<08:29,  6.45s/it]\u001b[A\n",
            "Iteration:  11% 10/88 [01:03<08:23,  6.46s/it]\u001b[A\n",
            "Iteration:  12% 11/88 [01:10<08:13,  6.41s/it]\u001b[A\n",
            "Iteration:  14% 12/88 [01:16<08:04,  6.37s/it]\u001b[A\n",
            "Iteration:  15% 13/88 [01:22<07:53,  6.32s/it]\u001b[A\n",
            "Iteration:  16% 14/88 [01:28<07:44,  6.28s/it]\u001b[A\n",
            "Iteration:  17% 15/88 [01:35<07:35,  6.24s/it]\u001b[A\n",
            "Iteration:  18% 16/88 [01:41<07:31,  6.27s/it]\u001b[A\n",
            "Iteration:  19% 17/88 [01:47<07:22,  6.24s/it]\u001b[A\n",
            "Iteration:  20% 18/88 [01:53<07:15,  6.22s/it]\u001b[A\n",
            "Iteration:  22% 19/88 [01:59<07:06,  6.18s/it]\u001b[A\n",
            "Iteration:  23% 20/88 [02:06<07:01,  6.20s/it]\u001b[A\n",
            "Iteration:  24% 21/88 [02:12<06:55,  6.20s/it]\u001b[A\n",
            "Iteration:  25% 22/88 [02:18<06:48,  6.19s/it]\u001b[A\n",
            "Iteration:  26% 23/88 [02:24<06:41,  6.18s/it]\u001b[A\n",
            "Iteration:  27% 24/88 [02:30<06:33,  6.15s/it]\u001b[A\n",
            "Iteration:  28% 25/88 [02:36<06:29,  6.18s/it]\u001b[A\n",
            "Iteration:  30% 26/88 [02:43<06:23,  6.19s/it]\u001b[A\n",
            "Iteration:  31% 27/88 [02:49<06:16,  6.17s/it]\u001b[A\n",
            "Iteration:  32% 28/88 [02:55<06:10,  6.18s/it]\u001b[A\n",
            "Iteration:  33% 29/88 [03:01<06:08,  6.25s/it]\u001b[A\n",
            "Iteration:  34% 30/88 [03:08<06:03,  6.27s/it]\u001b[A\n",
            "Iteration:  35% 31/88 [03:14<05:56,  6.25s/it]\u001b[A\n",
            "Iteration:  36% 32/88 [03:20<05:51,  6.27s/it]\u001b[A\n",
            "Iteration:  38% 33/88 [03:27<05:44,  6.26s/it]\u001b[A\n",
            "Iteration:  39% 34/88 [03:33<05:39,  6.28s/it]\u001b[A\n",
            "Iteration:  40% 35/88 [03:39<05:32,  6.28s/it]\u001b[A\n",
            "Iteration:  41% 36/88 [03:45<05:25,  6.26s/it]\u001b[A\n",
            "Iteration:  42% 37/88 [03:51<05:16,  6.21s/it]\u001b[A\n",
            "Iteration:  43% 38/88 [03:58<05:09,  6.20s/it]\u001b[A\n",
            "Iteration:  44% 39/88 [04:04<05:02,  6.18s/it]\u001b[A\n",
            "Iteration:  45% 40/88 [04:10<04:56,  6.19s/it]\u001b[A\n",
            "Iteration:  47% 41/88 [04:16<04:51,  6.21s/it]\u001b[A\n",
            "Iteration:  48% 42/88 [04:22<04:45,  6.21s/it]\u001b[A\n",
            "Iteration:  49% 43/88 [04:29<04:39,  6.20s/it]\u001b[A\n",
            "Iteration:  50% 44/88 [04:35<04:32,  6.20s/it]\u001b[A\n",
            "Iteration:  51% 45/88 [04:41<04:27,  6.22s/it]\u001b[A\n",
            "Iteration:  52% 46/88 [04:47<04:22,  6.24s/it]\u001b[A\n",
            "Iteration:  53% 47/88 [04:54<04:15,  6.23s/it]\u001b[A\n",
            "Iteration:  55% 48/88 [05:00<04:11,  6.28s/it]\u001b[A\n",
            "Iteration:  56% 49/88 [05:06<04:05,  6.29s/it]\u001b[A\n",
            "Iteration:  57% 50/88 [05:13<03:59,  6.30s/it]\u001b[A\n",
            "Iteration:  58% 51/88 [05:19<03:52,  6.28s/it]\u001b[A\n",
            "Iteration:  59% 52/88 [05:25<03:44,  6.23s/it]\u001b[A\n",
            "Iteration:  60% 53/88 [05:31<03:39,  6.27s/it]\u001b[A\n",
            "Iteration:  61% 54/88 [05:38<03:36,  6.36s/it]\u001b[A\n",
            "Iteration:  62% 55/88 [05:44<03:30,  6.37s/it]\u001b[A\n",
            "Iteration:  64% 56/88 [05:51<03:23,  6.36s/it]\u001b[A\n",
            "Iteration:  65% 57/88 [05:57<03:17,  6.37s/it]\u001b[A\n",
            "Iteration:  66% 58/88 [06:03<03:12,  6.40s/it]\u001b[A\n",
            "Iteration:  67% 59/88 [06:10<03:08,  6.51s/it]\u001b[A\n",
            "Iteration:  68% 60/88 [06:17<03:04,  6.57s/it]\u001b[A\n",
            "Iteration:  69% 61/88 [06:24<02:57,  6.58s/it]\u001b[A\n",
            "Iteration:  70% 62/88 [06:30<02:50,  6.55s/it]\u001b[A\n",
            "Iteration:  72% 63/88 [06:36<02:42,  6.51s/it]\u001b[A\n",
            "Iteration:  73% 64/88 [06:43<02:35,  6.49s/it]\u001b[A\n",
            "Iteration:  74% 65/88 [06:49<02:28,  6.45s/it]\u001b[A\n",
            "Iteration:  75% 66/88 [06:56<02:21,  6.45s/it]\u001b[A\n",
            "Iteration:  76% 67/88 [07:02<02:14,  6.42s/it]\u001b[A\n",
            "Iteration:  77% 68/88 [07:08<02:08,  6.42s/it]\u001b[A\n",
            "Iteration:  78% 69/88 [07:15<02:01,  6.40s/it]\u001b[A\n",
            "Iteration:  80% 70/88 [07:21<01:54,  6.38s/it]\u001b[A\n",
            "Iteration:  81% 71/88 [07:27<01:48,  6.36s/it]\u001b[A\n",
            "Iteration:  82% 72/88 [07:34<01:41,  6.34s/it]\u001b[A\n",
            "Iteration:  83% 73/88 [07:40<01:34,  6.31s/it]\u001b[A\n",
            "Iteration:  84% 74/88 [07:46<01:28,  6.31s/it]\u001b[A\n",
            "Iteration:  85% 75/88 [07:53<01:21,  6.29s/it]\u001b[A\n",
            "Iteration:  86% 76/88 [07:59<01:15,  6.30s/it]\u001b[A\n",
            "Iteration:  88% 77/88 [08:05<01:09,  6.29s/it]\u001b[A\n",
            "Iteration:  89% 78/88 [08:12<01:03,  6.38s/it]\u001b[A\n",
            "Iteration:  90% 79/88 [08:18<00:57,  6.35s/it]\u001b[A\n",
            "Iteration:  91% 80/88 [08:24<00:50,  6.32s/it]\u001b[A\n",
            "Iteration:  92% 81/88 [08:31<00:44,  6.37s/it]\u001b[A\n",
            "Iteration:  93% 82/88 [08:37<00:38,  6.35s/it]\u001b[A\n",
            "Iteration:  94% 83/88 [08:43<00:31,  6.34s/it]\u001b[A\n",
            "Iteration:  95% 84/88 [08:50<00:25,  6.30s/it]\u001b[A\n",
            "Iteration:  97% 85/88 [08:56<00:18,  6.31s/it]\u001b[A\n",
            "Iteration:  98% 86/88 [09:02<00:12,  6.30s/it]\u001b[A\n",
            "Iteration:  99% 87/88 [09:08<00:06,  6.29s/it]\u001b[A\n",
            "Iteration: 100% 88/88 [09:15<00:00,  6.31s/it]\n",
            "Epoch:  60% 3/5 [27:49<18:34, 557.46s/it]\n",
            "Iteration:   0% 0/88 [00:00<?, ?it/s]\u001b[A\n",
            "Iteration:   1% 1/88 [00:06<09:08,  6.31s/it]\u001b[A\n",
            "Iteration:   2% 2/88 [00:12<08:59,  6.27s/it]\u001b[A\n",
            "Iteration:   3% 3/88 [00:18<08:55,  6.30s/it]\u001b[A\n",
            "Iteration:   5% 4/88 [00:25<08:51,  6.32s/it]\u001b[A\n",
            "Iteration:   6% 5/88 [00:31<08:41,  6.28s/it]\u001b[A\n",
            "Iteration:   7% 6/88 [00:37<08:34,  6.27s/it]\u001b[A\n",
            "Iteration:   8% 7/88 [00:44<08:29,  6.29s/it]\u001b[A\n",
            "Iteration:   9% 8/88 [00:50<08:23,  6.30s/it]\u001b[A\n",
            "Iteration:  10% 9/88 [00:56<08:16,  6.28s/it]\u001b[A\n",
            "Iteration:  11% 10/88 [01:02<08:07,  6.25s/it]\u001b[A\n",
            "Iteration:  12% 11/88 [01:08<07:58,  6.22s/it]\u001b[A\n",
            "Iteration:  14% 12/88 [01:15<07:54,  6.24s/it]\u001b[A\n",
            "Iteration:  15% 13/88 [01:21<07:47,  6.23s/it]\u001b[A\n",
            "Iteration:  16% 14/88 [01:27<07:43,  6.27s/it]\u001b[A\n",
            "Iteration:  17% 15/88 [01:33<07:37,  6.26s/it]\u001b[A\n",
            "Iteration:  18% 16/88 [01:40<07:30,  6.26s/it]\u001b[A\n",
            "Iteration:  19% 17/88 [01:46<07:22,  6.23s/it]\u001b[A\n",
            "Iteration:  20% 18/88 [01:52<07:16,  6.23s/it]\u001b[A\n",
            "Iteration:  22% 19/88 [01:58<07:08,  6.21s/it]\u001b[A\n",
            "Iteration:  23% 20/88 [02:05<07:02,  6.21s/it]\u001b[A\n",
            "Iteration:  24% 21/88 [02:11<06:53,  6.17s/it]\u001b[A\n",
            "Iteration:  25% 22/88 [02:17<06:53,  6.27s/it]\u001b[A\n",
            "Iteration:  26% 23/88 [02:24<06:52,  6.35s/it]\u001b[A\n",
            "Iteration:  27% 24/88 [02:30<06:45,  6.34s/it]\u001b[A\n",
            "Iteration:  28% 25/88 [02:36<06:37,  6.31s/it]\u001b[A\n",
            "Iteration:  30% 26/88 [02:42<06:30,  6.30s/it]\u001b[A\n",
            "Iteration:  31% 27/88 [02:49<06:23,  6.29s/it]\u001b[A\n",
            "Iteration:  32% 28/88 [02:55<06:17,  6.29s/it]\u001b[A\n",
            "Iteration:  33% 29/88 [03:01<06:10,  6.28s/it]\u001b[A\n",
            "Iteration:  34% 30/88 [03:07<06:02,  6.26s/it]\u001b[A\n",
            "Iteration:  35% 31/88 [03:14<05:56,  6.26s/it]\u001b[A\n",
            "Iteration:  36% 32/88 [03:20<05:48,  6.22s/it]\u001b[A\n",
            "Iteration:  38% 33/88 [03:26<05:42,  6.23s/it]\u001b[A\n",
            "Iteration:  39% 34/88 [03:32<05:37,  6.24s/it]\u001b[A\n",
            "Iteration:  40% 35/88 [03:39<05:31,  6.25s/it]\u001b[A\n",
            "Iteration:  41% 36/88 [03:45<05:24,  6.25s/it]\u001b[A\n",
            "Iteration:  42% 37/88 [03:51<05:19,  6.26s/it]\u001b[A\n",
            "Iteration:  43% 38/88 [03:57<05:12,  6.25s/it]\u001b[A\n",
            "Iteration:  44% 39/88 [04:04<05:12,  6.37s/it]\u001b[A\n",
            "Iteration:  45% 40/88 [04:10<05:05,  6.37s/it]\u001b[A\n",
            "Iteration:  47% 41/88 [04:17<04:57,  6.33s/it]\u001b[A\n",
            "Iteration:  48% 42/88 [04:23<04:49,  6.30s/it]\u001b[A\n",
            "Iteration:  49% 43/88 [04:29<04:43,  6.30s/it]\u001b[A\n",
            "Iteration:  50% 44/88 [04:35<04:35,  6.27s/it]\u001b[A\n",
            "Iteration:  51% 45/88 [04:42<04:28,  6.23s/it]\u001b[A\n",
            "Iteration:  52% 46/88 [04:48<04:21,  6.23s/it]\u001b[A\n",
            "Iteration:  53% 47/88 [04:54<04:15,  6.24s/it]\u001b[A\n",
            "Iteration:  55% 48/88 [05:00<04:09,  6.25s/it]\u001b[A\n",
            "Iteration:  56% 49/88 [05:07<04:05,  6.29s/it]\u001b[A\n",
            "Iteration:  57% 50/88 [05:13<03:59,  6.29s/it]\u001b[A\n",
            "Iteration:  58% 51/88 [05:19<03:52,  6.28s/it]\u001b[A\n",
            "Iteration:  59% 52/88 [05:25<03:45,  6.27s/it]\u001b[A\n",
            "Iteration:  60% 53/88 [05:32<03:39,  6.28s/it]\u001b[A\n",
            "Iteration:  61% 54/88 [05:38<03:33,  6.29s/it]\u001b[A\n",
            "Iteration:  62% 55/88 [05:44<03:27,  6.30s/it]\u001b[A\n",
            "Iteration:  64% 56/88 [05:51<03:19,  6.25s/it]\u001b[A\n",
            "Iteration:  65% 57/88 [05:57<03:13,  6.23s/it]\u001b[A\n",
            "Iteration:  66% 58/88 [06:03<03:06,  6.22s/it]\u001b[A\n",
            "Iteration:  67% 59/88 [06:09<02:59,  6.20s/it]\u001b[A\n",
            "Iteration:  68% 60/88 [06:15<02:54,  6.22s/it]\u001b[A\n",
            "Iteration:  69% 61/88 [06:22<02:49,  6.27s/it]\u001b[A\n",
            "Iteration:  70% 62/88 [06:28<02:43,  6.30s/it]\u001b[A\n",
            "Iteration:  72% 63/88 [06:34<02:37,  6.30s/it]\u001b[A\n",
            "Iteration:  73% 64/88 [06:41<02:30,  6.28s/it]\u001b[A\n",
            "Iteration:  74% 65/88 [06:47<02:24,  6.28s/it]\u001b[A\n",
            "Iteration:  75% 66/88 [06:53<02:19,  6.32s/it]\u001b[A\n",
            "Iteration:  76% 67/88 [07:00<02:13,  6.35s/it]\u001b[A\n",
            "Iteration:  77% 68/88 [07:06<02:06,  6.35s/it]\u001b[A\n",
            "Iteration:  78% 69/88 [07:12<01:59,  6.29s/it]\u001b[A\n",
            "Iteration:  80% 70/88 [07:19<01:53,  6.31s/it]\u001b[A\n",
            "Iteration:  81% 71/88 [07:25<01:47,  6.35s/it]\u001b[A\n",
            "Iteration:  82% 72/88 [07:32<01:43,  6.50s/it]\u001b[A\n",
            "Iteration:  83% 73/88 [07:38<01:37,  6.48s/it]\u001b[A\n",
            "Iteration:  84% 74/88 [07:45<01:30,  6.47s/it]\u001b[A\n",
            "Iteration:  85% 75/88 [07:51<01:23,  6.40s/it]\u001b[A\n",
            "Iteration:  86% 76/88 [07:57<01:16,  6.37s/it]\u001b[A\n",
            "Iteration:  88% 77/88 [08:04<01:10,  6.37s/it]\u001b[A\n",
            "Iteration:  89% 78/88 [08:10<01:03,  6.33s/it]\u001b[A\n",
            "Iteration:  90% 79/88 [08:16<00:56,  6.32s/it]\u001b[A\n",
            "Iteration:  91% 80/88 [08:22<00:50,  6.29s/it]\u001b[A\n",
            "Iteration:  92% 81/88 [08:29<00:43,  6.28s/it]\u001b[A\n",
            "Iteration:  93% 82/88 [08:35<00:37,  6.27s/it]\u001b[A\n",
            "Iteration:  94% 83/88 [08:41<00:31,  6.29s/it]\u001b[A\n",
            "Iteration:  95% 84/88 [08:47<00:25,  6.26s/it]\u001b[A\n",
            "Iteration:  97% 85/88 [08:54<00:18,  6.25s/it]\u001b[A\n",
            "Iteration:  98% 86/88 [09:00<00:12,  6.26s/it]\u001b[A\n",
            "Iteration:  99% 87/88 [09:06<00:06,  6.30s/it]\u001b[A\n",
            "Iteration: 100% 88/88 [09:13<00:00,  6.29s/it]\n",
            "Epoch:  80% 4/5 [37:03<09:16, 556.24s/it]\n",
            "Iteration:   0% 0/88 [00:00<?, ?it/s]\u001b[A\n",
            "Iteration:   1% 1/88 [00:06<09:15,  6.38s/it]\u001b[A\n",
            "Iteration:   2% 2/88 [00:12<09:07,  6.37s/it]\u001b[A\n",
            "Iteration:   3% 3/88 [00:19<08:59,  6.35s/it]\u001b[A\n",
            "Iteration:   5% 4/88 [00:25<08:49,  6.31s/it]\u001b[A\n",
            "Iteration:   6% 5/88 [00:31<08:42,  6.29s/it]\u001b[A\n",
            "Iteration:   7% 6/88 [00:37<08:34,  6.28s/it]\u001b[A\n",
            "Iteration:   8% 7/88 [00:43<08:27,  6.26s/it]\u001b[A\n",
            "Iteration:   9% 8/88 [00:50<08:21,  6.27s/it]\u001b[A\n",
            "Iteration:  10% 9/88 [00:56<08:14,  6.26s/it]\u001b[A\n",
            "Iteration:  11% 10/88 [01:02<08:06,  6.24s/it]\u001b[A\n",
            "Iteration:  12% 11/88 [01:08<07:58,  6.21s/it]\u001b[A\n",
            "Iteration:  14% 12/88 [01:15<07:54,  6.25s/it]\u001b[A\n",
            "Iteration:  15% 13/88 [01:21<07:47,  6.24s/it]\u001b[A\n",
            "Iteration:  16% 14/88 [01:27<07:40,  6.23s/it]\u001b[A\n",
            "Iteration:  17% 15/88 [01:33<07:34,  6.22s/it]\u001b[A\n",
            "Iteration:  18% 16/88 [01:40<07:28,  6.22s/it]\u001b[A\n",
            "Iteration:  19% 17/88 [01:46<07:23,  6.24s/it]\u001b[A\n",
            "Iteration:  20% 18/88 [01:52<07:16,  6.24s/it]\u001b[A\n",
            "Iteration:  22% 19/88 [01:58<07:11,  6.25s/it]\u001b[A\n",
            "Iteration:  23% 20/88 [02:05<07:05,  6.25s/it]\u001b[A\n",
            "Iteration:  24% 21/88 [02:11<07:01,  6.30s/it]\u001b[A\n",
            "Iteration:  25% 22/88 [02:17<06:57,  6.33s/it]\u001b[A\n",
            "Iteration:  26% 23/88 [02:24<06:51,  6.33s/it]\u001b[A\n",
            "Iteration:  27% 24/88 [02:30<06:44,  6.33s/it]\u001b[A\n",
            "Iteration:  28% 25/88 [02:36<06:37,  6.31s/it]\u001b[A\n",
            "Iteration:  30% 26/88 [02:43<06:30,  6.30s/it]\u001b[A\n",
            "Iteration:  31% 27/88 [02:49<06:21,  6.26s/it]\u001b[A\n",
            "Iteration:  32% 28/88 [02:55<06:14,  6.25s/it]\u001b[A\n",
            "Iteration:  33% 29/88 [03:01<06:08,  6.24s/it]\u001b[A\n",
            "Iteration:  34% 30/88 [03:07<06:01,  6.24s/it]\u001b[A\n",
            "Iteration:  35% 31/88 [03:14<05:55,  6.24s/it]\u001b[A\n",
            "Iteration:  36% 32/88 [03:20<05:49,  6.24s/it]\u001b[A\n",
            "Iteration:  38% 33/88 [03:26<05:46,  6.30s/it]\u001b[A\n",
            "Iteration:  39% 34/88 [03:33<05:43,  6.36s/it]\u001b[A\n",
            "Iteration:  40% 35/88 [03:39<05:40,  6.42s/it]\u001b[A\n",
            "Iteration:  41% 36/88 [03:46<05:36,  6.48s/it]\u001b[A\n",
            "Iteration:  42% 37/88 [03:52<05:28,  6.44s/it]\u001b[A\n",
            "Iteration:  43% 38/88 [03:59<05:19,  6.38s/it]\u001b[A\n",
            "Iteration:  44% 39/88 [04:05<05:10,  6.35s/it]\u001b[A\n",
            "Iteration:  45% 40/88 [04:11<05:04,  6.35s/it]\u001b[A\n",
            "Iteration:  47% 41/88 [04:17<04:56,  6.30s/it]\u001b[A\n",
            "Iteration:  48% 42/88 [04:24<04:49,  6.29s/it]\u001b[A\n",
            "Iteration:  49% 43/88 [04:30<04:42,  6.27s/it]\u001b[A\n",
            "Iteration:  50% 44/88 [04:36<04:34,  6.25s/it]\u001b[A\n",
            "Iteration:  51% 45/88 [04:42<04:28,  6.24s/it]\u001b[A\n",
            "Iteration:  52% 46/88 [04:49<04:21,  6.23s/it]\u001b[A\n",
            "Iteration:  53% 47/88 [04:55<04:15,  6.23s/it]\u001b[A\n",
            "Iteration:  55% 48/88 [05:01<04:09,  6.24s/it]\u001b[A\n",
            "Iteration:  56% 49/88 [05:08<04:09,  6.39s/it]\u001b[A\n",
            "Iteration:  57% 50/88 [05:14<04:01,  6.36s/it]\u001b[A\n",
            "Iteration:  58% 51/88 [05:20<03:54,  6.35s/it]\u001b[A\n",
            "Iteration:  59% 52/88 [05:27<03:47,  6.32s/it]\u001b[A\n",
            "Iteration:  60% 53/88 [05:33<03:40,  6.31s/it]\u001b[A\n",
            "Iteration:  61% 54/88 [05:39<03:33,  6.28s/it]\u001b[A\n",
            "Iteration:  62% 55/88 [05:45<03:26,  6.26s/it]\u001b[A\n",
            "Iteration:  64% 56/88 [05:52<03:20,  6.25s/it]\u001b[A\n",
            "Iteration:  65% 57/88 [05:58<03:12,  6.22s/it]\u001b[A\n",
            "Iteration:  66% 58/88 [06:04<03:06,  6.22s/it]\u001b[A\n",
            "Iteration:  67% 59/88 [06:10<03:00,  6.23s/it]\u001b[A\n",
            "Iteration:  68% 60/88 [06:16<02:54,  6.24s/it]\u001b[A\n",
            "Iteration:  69% 61/88 [06:23<02:49,  6.26s/it]\u001b[A\n",
            "Iteration:  70% 62/88 [06:29<02:42,  6.26s/it]\u001b[A\n",
            "Iteration:  72% 63/88 [06:35<02:36,  6.26s/it]\u001b[A\n",
            "Iteration:  73% 64/88 [06:42<02:30,  6.27s/it]\u001b[A\n",
            "Iteration:  74% 65/88 [06:48<02:23,  6.24s/it]\u001b[A\n",
            "Iteration:  75% 66/88 [06:54<02:17,  6.24s/it]\u001b[A\n",
            "Iteration:  76% 67/88 [07:00<02:11,  6.26s/it]\u001b[A\n",
            "Iteration:  77% 68/88 [07:06<02:04,  6.22s/it]\u001b[A\n",
            "Iteration:  78% 69/88 [07:13<01:58,  6.24s/it]\u001b[A\n",
            "Iteration:  80% 70/88 [07:19<01:52,  6.26s/it]\u001b[A\n",
            "Iteration:  81% 71/88 [07:25<01:46,  6.26s/it]\u001b[A\n",
            "Iteration:  82% 72/88 [07:31<01:39,  6.24s/it]\u001b[A\n",
            "Iteration:  83% 73/88 [07:38<01:33,  6.23s/it]\u001b[A\n",
            "Iteration:  84% 74/88 [07:44<01:26,  6.21s/it]\u001b[A\n",
            "Iteration:  85% 75/88 [07:50<01:20,  6.22s/it]\u001b[A\n",
            "Iteration:  86% 76/88 [07:56<01:14,  6.22s/it]\u001b[A\n",
            "Iteration:  88% 77/88 [08:03<01:08,  6.21s/it]\u001b[A\n",
            "Iteration:  89% 78/88 [08:09<01:01,  6.19s/it]\u001b[A\n",
            "Iteration:  90% 79/88 [08:15<00:55,  6.21s/it]\u001b[A\n",
            "Iteration:  91% 80/88 [08:21<00:49,  6.18s/it]\u001b[A\n",
            "Iteration:  92% 81/88 [08:27<00:43,  6.22s/it]\u001b[A\n",
            "Iteration:  93% 82/88 [08:34<00:37,  6.23s/it]\u001b[A\n",
            "Iteration:  94% 83/88 [08:40<00:31,  6.21s/it]\u001b[A\n",
            "Iteration:  95% 84/88 [08:46<00:24,  6.18s/it]\u001b[A\n",
            "Iteration:  97% 85/88 [08:52<00:18,  6.25s/it]\u001b[A\n",
            "Iteration:  98% 86/88 [08:59<00:12,  6.31s/it]\u001b[A\n",
            "Iteration:  99% 87/88 [09:05<00:06,  6.38s/it]\u001b[A\n",
            "Iteration: 100% 88/88 [09:12<00:00,  6.28s/it]\n",
            "Epoch: 100% 5/5 [46:15<00:00, 555.13s/it]\n",
            "03/06/2021 18:22:09 - INFO - __main__ -    global_step = 440, average loss = 2.1522635201838884\n",
            "03/06/2021 18:22:09 - INFO - __main__ -   Saving model checkpoint to models/essays\n",
            "03/06/2021 18:22:15 - INFO - __main__ -   Evaluate the following checkpoints: ['models/essays']\n",
            "03/06/2021 18:22:20 - INFO - __main__ -   Creating features from dataset file at \n",
            "03/06/2021 18:22:24 - INFO - __main__ -   Saving features into cached file gpt2_cached_lm_2048_val.txt\n",
            "03/06/2021 18:22:24 - INFO - __main__ -   ***** Running evaluation  *****\n",
            "03/06/2021 18:22:24 - INFO - __main__ -     Num examples = 99\n",
            "03/06/2021 18:22:24 - INFO - __main__ -     Batch size = 4\n",
            "Evaluating:   0% 0/25 [00:00<?, ?it/s]tcmalloc: large alloc 1646821376 bytes == 0x558a45178000 @  0x7f79268ceb6b 0x7f79268ee379 0x7f79069b074e 0x7f79069b27b6 0x7f77c2e20ed2 0x7f77c310bb03 0x7f77c30e3137 0x7f77c30fe20c 0x7f77c30da6ba 0x7f77c30e3137 0x7f77c30fe20c 0x7f77c31ca00d 0x7f77c2c7394b 0x7f77c310c049 0x7f77c298bef0 0x7f77c329b84b 0x7f77c318651c 0x7f77c47d02ef 0x7f77c298bef0 0x7f77c329b84b 0x7f77c33dceac 0x7f77c2c62c68 0x7f77c2c638fa 0x7f77c3349460 0x7f77c298bef0 0x7f77c329b84b 0x7f77c33dc24c 0x7f791f51b5fb 0x55869716d050 0x55869725e99d 0x5586971e0fe9\n",
            "tcmalloc: large alloc 1646018560 bytes == 0x558846484000 @  0x7f79268ceb6b 0x7f79268ee379 0x7f79069b074e 0x7f79069b27b6 0x7f77c2e20ed2 0x7f77c310bb03 0x7f77c30e3137 0x7f77c30fe20c 0x7f77c30da6ba 0x7f77c30e3137 0x7f77c30fe20c 0x7f77c31ca00d 0x7f77c47e9e6d 0x7f77c30e3137 0x7f77c30fe20c 0x7f77c30da6ba 0x7f77c30e3137 0x7f77c30fe20c 0x7f77c31ca00d 0x7f77c2e2013e 0x7f77c338812f 0x7f77c29edc1b 0x7f77c32b9f86 0x7f77c31ccad2 0x7f77c2e3cf49 0x7f77c3343360 0x7f77c3384ccf 0x7f77c3422cb4 0x7f77c33f14aa 0x7f791f5d14f3 0x55869716d050\n",
            "tcmalloc: large alloc 1646018560 bytes == 0x5588a8648000 @  0x7f79268ceb6b 0x7f79268ee379 0x7f79069b074e 0x7f79069b27b6 0x7f77c2e20ed2 0x7f77c310bb03 0x7f77c30e3137 0x7f77c30fe20c 0x7f77c30da6ba 0x7f77c30e3137 0x7f77c30fe20c 0x7f77c31ca00d 0x7f77c2e2013e 0x7f77c2dbb7a3 0x7f77c310be7c 0x7f77c3133464 0x7f77c329ea52 0x7f77c31a0dba 0x7f77c47837f1 0x7f77c3133464 0x7f77c329ea52 0x7f77c31a0dba 0x7f77c2dbb124 0x7f77c3348d5b 0x7f77c2a03583 0x7f77c32b2c65 0x7f77c33f30ea 0x7f791f52a36e 0x55869716d050 0x55869725e99d 0x5586971e0fe9\n",
            "Evaluating:   4% 1/25 [00:06<02:24,  6.01s/it]tcmalloc: large alloc 1646821376 bytes == 0x558846484000 @  0x7f79268ceb6b 0x7f79268ee379 0x7f79069b074e 0x7f79069b27b6 0x7f77c2e20ed2 0x7f77c310bb03 0x7f77c30e3137 0x7f77c30fe20c 0x7f77c30da6ba 0x7f77c30e3137 0x7f77c30fe20c 0x7f77c31ca00d 0x7f77c2c7394b 0x7f77c310c049 0x7f77c298bef0 0x7f77c329b84b 0x7f77c318651c 0x7f77c47d02ef 0x7f77c298bef0 0x7f77c329b84b 0x7f77c33dceac 0x7f77c2c62c68 0x7f77c2c638fa 0x7f77c3349460 0x7f77c298bef0 0x7f77c329b84b 0x7f77c33dc24c 0x7f791f51b5fb 0x55869716d050 0x55869725e99d 0x5586971e0fe9\n",
            "Evaluating: 100% 25/25 [02:25<00:00,  5.81s/it]\n",
            "03/06/2021 18:24:49 - INFO - __main__ -   ***** Eval results  *****\n",
            "03/06/2021 18:24:49 - INFO - __main__ -     perplexity = tensor(17.0298)\n"
          ],
          "name": "stdout"
        }
      ]
    },
    {
      "cell_type": "markdown",
      "metadata": {
        "id": "QvgntLymArg3"
      },
      "source": [
        "## Evaluate model\n",
        "### Generate with generate_transformers.py script."
      ]
    },
    {
      "cell_type": "code",
      "metadata": {
        "colab": {
          "base_uri": "https://localhost:8080/"
        },
        "id": "qYnswPyr9CVw",
        "outputId": "dc34e778-8a50-4c71-efd0-45ac5891c09c"
      },
      "source": [
        "!python ru-gpts/generate_transformers.py \\\n",
        "    --model_type=gpt2 \\\n",
        "    --model_name_or_path=models/essays \\\n",
        "    --k=5 \\\n",
        "    --p=0.95 \\\n",
        "    --length=50 \\\n",
        "    --repetition_penalty=5"
      ],
      "execution_count": 14,
      "outputs": [
        {
          "output_type": "stream",
          "text": [
            "\n"
          ],
          "name": "stdout"
        }
      ]
    },
    {
      "cell_type": "code",
      "metadata": {
        "id": "JYp5EQSFye-Q",
        "colab": {
          "base_uri": "https://localhost:8080/"
        },
        "outputId": "2f03b4ce-8561-4149-cc8e-c5570cb00e54"
      },
      "source": [
        "!git clone https://github.com/AlexWortega/Collab_experement"
      ],
      "execution_count": 19,
      "outputs": [
        {
          "output_type": "stream",
          "text": [
            "Cloning into 'Collab_experement'...\n",
            "remote: Enumerating objects: 30, done.\u001b[K\n",
            "remote: Counting objects: 100% (30/30), done.\u001b[K\n",
            "remote: Compressing objects: 100% (28/28), done.\u001b[K\n",
            "remote: Total 30 (delta 8), reused 0 (delta 0), pack-reused 0\u001b[K\n",
            "Unpacking objects: 100% (30/30), done.\n"
          ],
          "name": "stdout"
        }
      ]
    },
    {
      "cell_type": "code",
      "metadata": {
        "colab": {
          "base_uri": "https://localhost:8080/"
        },
        "id": "wW6MFxOj6QS2",
        "outputId": "d64d6b17-6341-412e-a38a-6814c0447c7c"
      },
      "source": [
        "cd /content/Collab_experement"
      ],
      "execution_count": 20,
      "outputs": [
        {
          "output_type": "stream",
          "text": [
            "/content/Collab_experement\n"
          ],
          "name": "stdout"
        }
      ]
    },
    {
      "cell_type": "code",
      "metadata": {
        "colab": {
          "base_uri": "https://localhost:8080/"
        },
        "id": "jgrqpSTS6RpI",
        "outputId": "ac777dc4-0bdf-4fd6-8a0b-5793b15874cf"
      },
      "source": [
        "!git commit --message=\"add 2ch model\""
      ],
      "execution_count": 29,
      "outputs": [
        {
          "output_type": "stream",
          "text": [
            "On branch main\n",
            "Your branch is up to date with 'origin/main'.\n",
            "\n",
            "Untracked files:\n",
            "\t\u001b[31m./\u001b[m\n",
            "\n",
            "nothing added to commit but untracked files present\n"
          ],
          "name": "stdout"
        }
      ]
    },
    {
      "cell_type": "code",
      "metadata": {
        "colab": {
          "base_uri": "https://localhost:8080/"
        },
        "id": "x6WP4UZf7kvf",
        "outputId": "0ba8c75b-9701-4485-d98e-adc5ca297387"
      },
      "source": [
        "!git push"
      ],
      "execution_count": 30,
      "outputs": [
        {
          "output_type": "stream",
          "text": [
            "fatal: could not read Username for 'https://github.com': No such device or address\n"
          ],
          "name": "stdout"
        }
      ]
    },
    {
      "cell_type": "code",
      "metadata": {
        "id": "j_NH0xO4676r"
      },
      "source": [
        "!git config --global user.email \"alexdragannikolich@gmail.com\"\n",
        "!git config --global user.name \"AlexWortega\""
      ],
      "execution_count": 28,
      "outputs": []
    },
    {
      "cell_type": "code",
      "metadata": {
        "id": "UehLDth2yfsW"
      },
      "source": [
        "from google.colab import drive\n",
        "drive.mount('/content/drive')"
      ],
      "execution_count": null,
      "outputs": []
    },
    {
      "cell_type": "markdown",
      "metadata": {
        "id": "K7_jIWhVBKay"
      },
      "source": [
        "### Generate mannualy"
      ]
    },
    {
      "cell_type": "code",
      "metadata": {
        "id": "csHcDJXFDdaW"
      },
      "source": [
        "import numpy as np\n",
        "import torch"
      ],
      "execution_count": null,
      "outputs": []
    },
    {
      "cell_type": "code",
      "metadata": {
        "id": "TJxPg-cJDhAB",
        "colab": {
          "base_uri": "https://localhost:8080/"
        },
        "outputId": "41e2e0d8-c28c-4692-eb29-15e19a328959"
      },
      "source": [
        "np.random.seed(42)\n",
        "torch.manual_seed(42)"
      ],
      "execution_count": null,
      "outputs": [
        {
          "output_type": "execute_result",
          "data": {
            "text/plain": [
              "<torch._C.Generator at 0x7fdb156b76b0>"
            ]
          },
          "metadata": {
            "tags": []
          },
          "execution_count": 6
        }
      ]
    },
    {
      "cell_type": "code",
      "metadata": {
        "id": "AkUrzKsy_16F"
      },
      "source": [
        "from transformers import GPT2LMHeadModel, GPT2Tokenizer"
      ],
      "execution_count": null,
      "outputs": []
    },
    {
      "cell_type": "code",
      "metadata": {
        "id": "x_EMbgO0BTvb"
      },
      "source": [
        "tok = GPT2Tokenizer.from_pretrained(\"models/essays\")"
      ],
      "execution_count": null,
      "outputs": []
    },
    {
      "cell_type": "code",
      "metadata": {
        "id": "Fjy0GAuQBYpA"
      },
      "source": [
        "model = GPT2LMHeadModel.from_pretrained(\"models/essays\")"
      ],
      "execution_count": null,
      "outputs": []
    },
    {
      "cell_type": "code",
      "metadata": {
        "id": "hQY6A5q7Bd4O"
      },
      "source": [
        "text = \"<s>Тема: «Создает человека природа, но развивает и образует его общество». (В.Т. Белинский)\\nСочинение: \"\n",
        "inpt = tok.encode(text, return_tensors=\"pt\")"
      ],
      "execution_count": null,
      "outputs": []
    },
    {
      "cell_type": "code",
      "metadata": {
        "id": "1gfJFmeOBj_t"
      },
      "source": [
        "out = model.generate(inpt.cuda(), max_length=500, repetition_penalty=5.0, do_sample=True, top_k=5, top_p=0.95, temperature=1)"
      ],
      "execution_count": null,
      "outputs": []
    },
    {
      "cell_type": "code",
      "metadata": {
        "id": "gWZ9SUCxB2Ki"
      },
      "source": [
        "tok.decode(out[0])"
      ],
      "execution_count": null,
      "outputs": []
    }
  ]
}