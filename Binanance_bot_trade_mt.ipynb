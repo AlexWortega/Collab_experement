{
  "nbformat": 4,
  "nbformat_minor": 0,
  "metadata": {
    "colab": {
      "name": "Binanance_bot_trade_mt",
      "private_outputs": true,
      "provenance": [],
      "collapsed_sections": [],
      "mount_file_id": "1H2n6by9IJluj5orUUCZsbZoHTZa_N_Z8",
      "authorship_tag": "ABX9TyPxXwO923ihfbmRT/Lj/XjJ",
      "include_colab_link": true
    },
    "kernelspec": {
      "name": "python3",
      "display_name": "Python 3"
    },
    "language_info": {
      "name": "python"
    }
  },
  "cells": [
    {
      "cell_type": "markdown",
      "metadata": {
        "id": "view-in-github",
        "colab_type": "text"
      },
      "source": [
        "<a href=\"https://colab.research.google.com/github/AlexWortega/Collab_experement/blob/main/Binanance_bot_trade_mt.ipynb\" target=\"_parent\"><img src=\"https://colab.research.google.com/assets/colab-badge.svg\" alt=\"Open In Colab\"/></a>"
      ]
    },
    {
      "cell_type": "code",
      "metadata": {
        "id": "GKgZeJBz9laq"
      },
      "source": [
        "!pip install python-binance\n",
        "!pip install websocket-client"
      ],
      "execution_count": null,
      "outputs": []
    },
    {
      "cell_type": "code",
      "metadata": {
        "id": "2ovWxf9o9k6l"
      },
      "source": [
        "import json\n",
        "import pprint\n",
        "import numpy\n",
        "import websocket\n",
        "import pandas as pd\n",
        "from sklearn.model_selection import train_test_split\n",
        "from sklearn import linear_model\n",
        "from sklearn import svm\n",
        "from sklearn.ensemble import RandomForestRegressor\n",
        "from sklearn.ensemble import GradientBoostingRegressor\n",
        "from sklearn.linear_model import LinearRegression\n",
        "from sklearn.ensemble import VotingRegressor\n",
        "import numpy as np\n",
        "import pickle\n",
        "from binance.client import Client"
      ],
      "execution_count": null,
      "outputs": []
    },
    {
      "cell_type": "code",
      "metadata": {
        "id": "_ziPZnTU9pjM"
      },
      "source": [
        "client = Client('pb_key', 'sc_key')\n",
        "balance = client.get_asset_balance(asset='BNB')"
      ],
      "execution_count": null,
      "outputs": []
    },
    {
      "cell_type": "code",
      "metadata": {
        "id": "b4Hpr5IpY1Ss"
      },
      "source": [
        "balance[\"free\"]"
      ],
      "execution_count": null,
      "outputs": []
    },
    {
      "cell_type": "code",
      "metadata": {
        "id": "avMNofQJKiUW"
      },
      "source": [
        "import os\n",
        "from binance.client import Client\n",
        "import pandas as pd\n",
        "import datetime, time\n",
        "\n",
        "def GetHistoricalData( howLong,pair='BNBUSDT'):\n",
        "    howLong = howLong\n",
        "    # Calculate the timestamps for the binance api function\n",
        "    untilThisDate = datetime.datetime.now()\n",
        "    sinceThisDate = untilThisDate - datetime.timedelta(days = howLong)\n",
        "\n",
        "   \n",
        "   \n",
        "    # Execute the query from binance - timestamps must be converted to strings !\n",
        "\n",
        "\n",
        "    candle = client.get_historical_klines(pair, Client.KLINE_INTERVAL_1MINUTE, str(sinceThisDate), str(untilThisDate))\n",
        "\n",
        "    # Create a dataframe to label all the columns returned by binance so we work with them later.\n",
        "    \n",
        "    \n",
        "    df = pd.DataFrame(candle, columns=['dateTime', 'open', 'high', 'low', 'close', 'volume', 'closeTime', 'quoteAssetVolume', 'numberOfTrades', 'takerBuyBaseVol', 'takerBuyQuoteVol', 'ignore'])\n",
        "\n",
        "    df.dateTime = pd.to_datetime(df.dateTime, unit='ms').dt.strftime(Constants.DateTimeFormat)\n",
        "    df.set_index('dateTime', inplace=True)\n",
        "\n",
        "    \n",
        "    df = df.drop(['closeTime', 'quoteAssetVolume', 'numberOfTrades', 'takerBuyBaseVol','takerBuyQuoteVol', 'ignore'], axis=1)\n",
        "    return df\n"
      ],
      "execution_count": null,
      "outputs": []
    },
    {
      "cell_type": "code",
      "metadata": {
        "id": "pnZBIA4IKk1Z"
      },
      "source": [
        "df = GetHistoricalData(1000)"
      ],
      "execution_count": null,
      "outputs": []
    },
    {
      "cell_type": "code",
      "metadata": {
        "id": "OBN0hXKBLSjB"
      },
      "source": [
        "df.info()"
      ],
      "execution_count": null,
      "outputs": []
    },
    {
      "cell_type": "code",
      "metadata": {
        "id": "xQvsHkR2d1jJ"
      },
      "source": [
        "df.to_csv('BNBUSDT.csv')"
      ],
      "execution_count": null,
      "outputs": []
    },
    {
      "cell_type": "markdown",
      "metadata": {
        "id": "6UvY2Fi_IHQc"
      },
      "source": [
        "# Train"
      ]
    },
    {
      "cell_type": "code",
      "metadata": {
        "id": "EmnU6XrYIRLi"
      },
      "source": [
        "data = pd.read_csv('BNBUSDT.csv', skiprows=[0])"
      ],
      "execution_count": null,
      "outputs": []
    },
    {
      "cell_type": "code",
      "metadata": {
        "id": "J7GuXLaEIWXY"
      },
      "source": [
        "df = data.drop([\"date\", \"symbol\",\"Volume BTC\", \"Volume USDT\", \"tradecount\"], axis=1)"
      ],
      "execution_count": null,
      "outputs": []
    },
    {
      "cell_type": "code",
      "metadata": {
        "id": "Y1QlpxPFIfjS"
      },
      "source": [
        "hour_data = pd.DataFrame(columns=[*range(1,121)])\n",
        "hour_data[\"end\"] = 0\n",
        "for i in range(1,10000):\n",
        "  values = list(df['open'][60+30*i:180+30*i])\n",
        "  values.append(df['close'][30*i])\n",
        "  hour_data.loc[len(hour_data)] = values"
      ],
      "execution_count": null,
      "outputs": []
    },
    {
      "cell_type": "code",
      "metadata": {
        "id": "hf5ll3ysIjWu"
      },
      "source": [
        "hour_data.head()"
      ],
      "execution_count": null,
      "outputs": []
    },
    {
      "cell_type": "code",
      "metadata": {
        "id": "oCQQBwz1IExM"
      },
      "source": [
        "X = hour_data.drop('end', axis=1)\n",
        "y = hour_data['end']\n",
        "\n",
        "X_train, X_test, y_train, y_test = train_test_split(X, y, test_size=0.2)"
      ],
      "execution_count": null,
      "outputs": []
    },
    {
      "cell_type": "code",
      "metadata": {
        "id": "MFCK_ihsIBaW"
      },
      "source": [
        "reg1 = GradientBoostingRegressor(n_estimators=100)\n",
        "reg2 = RandomForestRegressor()\n",
        "reg3 = LinearRegression()\n",
        "reg4 = linear_model.Ridge(alpha=.5)\n",
        "\n",
        "ereg = VotingRegressor(estimators=[('gb', reg1), ('rf', reg2), ('lr', reg3),('ri',reg4)])\n",
        "\n",
        "ereg.fit(X_train, y_train)"
      ],
      "execution_count": null,
      "outputs": []
    },
    {
      "cell_type": "code",
      "metadata": {
        "id": "hf0JngVKIKHo"
      },
      "source": [
        "ereg"
      ],
      "execution_count": null,
      "outputs": []
    },
    {
      "cell_type": "markdown",
      "metadata": {
        "id": "L0CTVP4wIKdJ"
      },
      "source": [
        "# Test"
      ]
    },
    {
      "cell_type": "code",
      "metadata": {
        "id": "x1vOU-gCHjx7"
      },
      "source": [
        " \n",
        "pkl_filename = \"binance_model.pkl\"\n",
        "with open(pkl_filename, 'wb') as file:\n",
        "    pickle.dump(ereg, file)"
      ],
      "execution_count": null,
      "outputs": []
    },
    {
      "cell_type": "code",
      "metadata": {
        "id": "DVOuh9mbHl6i"
      },
      "source": [
        "closes = []\n",
        "time = []\n",
        "have = []\n",
        "expired = []"
      ],
      "execution_count": null,
      "outputs": []
    },
    {
      "cell_type": "code",
      "metadata": {
        "id": "s-IJAc9sgUU3"
      },
      "source": [
        "reg1 = GradientBoostingRegressor(n_estimators=100)\n",
        "reg2 = RandomForestRegressor()\n",
        "reg3 = LinearRegression()\n",
        "reg4 = linear_model.Ridge(alpha=.5)\n",
        "\n",
        "ereg = VotingRegressor(estimators=[('gb', reg1), ('rf', reg2), ('lr', reg3),('ri',reg4)])\n"
      ],
      "execution_count": null,
      "outputs": []
    },
    {
      "cell_type": "code",
      "metadata": {
        "id": "lrvRPLfggXeT"
      },
      "source": [
        "ereg = pickle.load(open('/content/binance_model.pkl', 'rb'))"
      ],
      "execution_count": null,
      "outputs": []
    },
    {
      "cell_type": "code",
      "metadata": {
        "id": "GgLnFvwOcOjc"
      },
      "source": [
        "SOCKET = \"wss://stream.binance.com:9443/ws/btcusdt@kline_1m\"\n",
        "\n",
        "\n",
        "\n",
        "\n",
        "def on_open(ws):\n",
        "    print('opened connection')\n",
        "\n",
        "\n",
        "def on_close(ws):\n",
        "    print('closed connection')\n",
        "\n",
        "# every time btc value closes\n",
        "def on_message(ws, message):\n",
        "    global closes, i    \n",
        "\n",
        "    json_message = json.loads(message)\n",
        "\n",
        "    candle = json_message['k']\n",
        "    is_candle_closed = candle['x']\n",
        "    close = candle['c']\n",
        "\n",
        "    if is_candle_closed:\n",
        "        closes.append(float(close))\n",
        "        #if more than 2 hours passed after we started program\n",
        "\n",
        "        if len(closes)>120:\n",
        "            last_hours = np.array(closes[-120:]) \n",
        "            #predict value of last 2 hours and compare with the last one\n",
        "\n",
        "            if closes[-1]<float(loaded_model.predict(last_hours.reshape(1,-1))):\n",
        "                #buy btc if pred val > last val \n",
        "                balance_usd = client.get_asset_balance(asset='USDT')\n",
        "                if float(balance_usd['free'])>16:\n",
        "                    order = client.create_order(\n",
        "                        symbol='BNBUSDT',\n",
        "                        side=Client.SIDE_BUY,\n",
        "                        type=Client.ORDER_TYPE_MARKET,\n",
        "                        quantity = 0.0003)   \n",
        "                    #add bought time and at what price we bought\n",
        "\n",
        "                    time.append(int(candle['t'])+3600000)\n",
        "                    print(\"bought for {}\".format(float(closes[-1])))\n",
        "                    have.append(float(closes[-1]))\n",
        "        \n",
        "        #if bought time was more than 2 hours ago than add bought val to expired    \n",
        "\n",
        "        expired = have[:sum(i<candle['t'] for i in time)]\n",
        "        if len(expired)>0:\n",
        "            \n",
        "            #if val in expired < than value now then sell\n",
        "\n",
        "            if min(expired)<closes[-1]:                \n",
        "                    balance_btc = client.get_asset_balance(asset='BTC')\n",
        "                    if float(balance_btc['free'])>0.0003:\n",
        "                        print('sold for {}'.format(closes[-1]))\n",
        "                        order = client.create_order(\n",
        "                            symbol='BTCUSDT',\n",
        "                            side=Client.SIDE_SELL,\n",
        "                            type=Client.ORDER_TYPE_MARKET,\n",
        "                            quantity = 0.0003) \n",
        "                        #del sold value\n",
        "                        del time[have.index(min(expired))]\n",
        "                        have.remove(min(expired))                    \n",
        "                        expired.remove(min(expired))\n",
        "                    \n",
        "                    \n",
        "\n",
        "\n",
        "ws = websocket.WebSocketApp(SOCKET, on_open=on_open, on_close=on_close, on_message=on_message)\n",
        "ws.run_forever()"
      ],
      "execution_count": null,
      "outputs": []
    }
  ]
}