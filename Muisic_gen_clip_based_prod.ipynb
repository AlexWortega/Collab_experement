{
  "nbformat": 4,
  "nbformat_minor": 0,
  "metadata": {
    "colab": {
      "name": "Muisic_gen_clip based prod.ipynb",
      "private_outputs": true,
      "provenance": [],
      "collapsed_sections": [
        "rUfOsN242HyI",
        "UFqpLNcqRqnd"
      ],
      "include_colab_link": true
    },
    "kernelspec": {
      "name": "python3",
      "display_name": "Python 3"
    },
    "language_info": {
      "name": "python"
    },
    "accelerator": "GPU"
  },
  "cells": [
    {
      "cell_type": "markdown",
      "metadata": {
        "id": "view-in-github",
        "colab_type": "text"
      },
      "source": [
        "<a href=\"https://colab.research.google.com/github/AlexWortega/Collab_experement/blob/main/Muisic_gen_clip_based_prod.ipynb\" target=\"_parent\"><img src=\"https://colab.research.google.com/assets/colab-badge.svg\" alt=\"Open In Colab\"/></a>"
      ]
    },
    {
      "cell_type": "markdown",
      "metadata": {
        "id": "rUfOsN242HyI"
      },
      "source": [
        "# gan muisc torch bullshit"
      ]
    },
    {
      "cell_type": "code",
      "metadata": {
        "id": "sW7U_hjeIZg0"
      },
      "source": [
        "!git clone https://github.com/msieg/deep-music-visualizer"
      ],
      "execution_count": null,
      "outputs": []
    },
    {
      "cell_type": "code",
      "metadata": {
        "id": "M9Ags8JYIhMn"
      },
      "source": [
        "!sudo apt-get update\n",
        "!sudo apt-get install ffmpeg\n",
        "!sudo apt-get install libsndfile1"
      ],
      "execution_count": null,
      "outputs": []
    },
    {
      "cell_type": "code",
      "metadata": {
        "id": "xnkSoec6JQB0"
      },
      "source": [
        "cd deep-music-visualizer/"
      ],
      "execution_count": null,
      "outputs": []
    },
    {
      "cell_type": "code",
      "metadata": {
        "id": "TKjelqaNJd0Y"
      },
      "source": [
        "!pip install tqdm"
      ],
      "execution_count": null,
      "outputs": []
    },
    {
      "cell_type": "code",
      "metadata": {
        "id": "H58e54FrJtvR"
      },
      "source": [
        "!pip install librosa"
      ],
      "execution_count": null,
      "outputs": []
    },
    {
      "cell_type": "code",
      "metadata": {
        "id": "mwdoHFZUJwHV"
      },
      "source": [
        "!pip install moviepy"
      ],
      "execution_count": null,
      "outputs": []
    },
    {
      "cell_type": "code",
      "metadata": {
        "id": "qvt5zxIqJzXm"
      },
      "source": [
        "!pip install torch"
      ],
      "execution_count": null,
      "outputs": []
    },
    {
      "cell_type": "code",
      "metadata": {
        "id": "sLAkNRGvJ17t"
      },
      "source": [
        "!pip install scipy==1.1.0"
      ],
      "execution_count": null,
      "outputs": []
    },
    {
      "cell_type": "code",
      "metadata": {
        "id": "ilLEKxjBJ5JP"
      },
      "source": [
        "!pip install pytorch_pretrained_biggan"
      ],
      "execution_count": null,
      "outputs": []
    },
    {
      "cell_type": "code",
      "metadata": {
        "id": "1Dfkmx54JR4n"
      },
      "source": [
        "!python visualize.py --song ff.mp3 --duration 30 --resolution 128"
      ],
      "execution_count": null,
      "outputs": []
    },
    {
      "cell_type": "markdown",
      "metadata": {
        "id": "Rp_fg9e-bfnx"
      },
      "source": [
        "Цвет настроения синий\n",
        "Цвет настроения синий\n",
        "Она убежала от нелепой суеты\n",
        "Ни капли стеснения с приходом темноты\n",
        "Страсть, страсть над ней имеет власть\n",
        "Все, громче звук и понеслась\n",
        "Цвет настроения синий\n",
        "Внутри Мартини, а в руках бикини\n",
        "Под песню Синий иней\n",
        "Она так чувствует себя Богиней\n",
        "Цвет настроения синий\n",
        "Внутри Мартини, а в руках бикини\n",
        "Под песню Синий иней\n",
        "Она так чувствует себя Богиней\n",
        "Влияние ночи очень трудно предсказать\n",
        "По телу мурашки и ей хочется кричать\n",
        "Да, да она сейчас звезда\n",
        "Все предрассудки ерунда\n",
        "Цвет настроения синий\n",
        "Внутри Мартини, а в руках бикини\n",
        "Под песню Синий иней\n",
        "Она так чувствует себя Богиней\n",
        "Цвет настроения синий\n",
        "Внутри Мартини, а в руках бикини\n",
        "Под песню Синий иней\n",
        "Она так чувствует себя Богиней\n",
        "Цвет настроения\n",
        "Цвет настроения\n",
        "Цвет настроения\n",
        "Цвет настроения синий\n",
        "Цвет настроения синий\n",
        "Внутри Мартини, а в руках бикини\n",
        "Под песню Синий иней\n",
        "Она так чувствует себя Богиней\n",
        "Цвет настроения синий\n",
        "Внутри Мартини, а в руках бикини\n",
        "Под песню Синий иней\n",
        "Она так чувствует себя Богиней\n"
      ]
    },
    {
      "cell_type": "markdown",
      "metadata": {
        "id": "NX7t7CdusFq6"
      },
      "source": [
        "# Api simple not tested yet\n",
        "## Get request \n",
        "` json{'text':['string']}`\n",
        "### Return \n",
        "  Image(byte array like)"
      ]
    },
    {
      "cell_type": "markdown",
      "metadata": {
        "id": "pbJ7n8qW9LnY"
      },
      "source": [
        "каждый запрос кидаем в новый поток(?) но ведь все на карточке как лучше сделать"
      ]
    },
    {
      "cell_type": "code",
      "metadata": {
        "id": "v4LdnU7AvXKL"
      },
      "source": [
        "!pip install fastapi nest-asyncio pyngrok uvicorn\n",
        "!pip install big-sleep --upgrade\n",
        "#!pip install moviepy for music + video doesnt implimented\n",
        "!pip install googletrans==3.1.0a0"
      ],
      "execution_count": null,
      "outputs": []
    },
    {
      "cell_type": "code",
      "metadata": {
        "id": "R8ayPk6xscXa"
      },
      "source": [
        "from tqdm.notebook import trange\n",
        "from IPython.display import Image, display\n",
        "import os\n",
        "from big_sleep import Imagine\n",
        "from random import randint\n",
        "\n",
        "\n",
        "from googletrans import Translator\n",
        "\n",
        "def trans(translator,text):\n",
        "  trans = translator.translate(str(text),dest='en')\n",
        "  return trans.text\n",
        "\n",
        "translator = Translator()\n",
        "\n",
        "images=[]\n",
        "\n",
        "\n",
        "\n",
        "#TEXT=trans(translator,data[i])\n",
        "\n",
        "from big_sleep import Imagine\n",
        "\n",
        "def gen(TEXT):\n",
        "  \"\"\"\n",
        "  Text входная строка по английски\n",
        "  return\n",
        "\n",
        "  \"\"\"\n",
        "  SAVE_EVERY =  1\n",
        "  SAVE_PROGRESS = False \n",
        "  LEARNING_RATE = 5e-2 \n",
        "\n",
        "  \n",
        "\n",
        "    \n",
        "  \n",
        "\n",
        "  \n",
        "  \n",
        "  images=[]\n",
        "  model = Imagine(\n",
        "    text = TEXT,\n",
        "    save_every = SAVE_EVERY,\n",
        "    lr = LEARNING_RATE,\n",
        "    iterations = 2,\n",
        "    save_progress = SAVE_PROGRESS,\n",
        "    seed = randint(0,1000)\n",
        "  )\n",
        "  for epoch in trange(2, desc = 'epochs'):#20\n",
        "\n",
        "      for i in trange(20, desc = 'iteration'):#1000\n",
        "        model.train_step(epoch, i)\n",
        "        images+=[ Image(f'{[i]}.png')]\n",
        "  \n",
        "       \n",
        "    "
      ],
      "execution_count": null,
      "outputs": []
    },
    {
      "cell_type": "code",
      "metadata": {
        "id": "UM9W782zHO1O"
      },
      "source": [
        "gen(\"hi\")"
      ],
      "execution_count": null,
      "outputs": []
    },
    {
      "cell_type": "code",
      "metadata": {
        "id": "TbombXgLPQ2W"
      },
      "source": [
        "pip install aiofile"
      ],
      "execution_count": null,
      "outputs": []
    },
    {
      "cell_type": "code",
      "metadata": {
        "id": "qeqmKmBkvHjY"
      },
      "source": [
        "from fastapi import FastAPI\n",
        "from fastapi.middleware.cors import CORSMiddleware\n",
        "from fastapi import FastAPI, File, UploadFile\n",
        "from fastapi.responses import FileResponse\n",
        "from fastapi.responses import FileResponse\n",
        "\n",
        "import cv2\n",
        "app = FastAPI()\n",
        "\n",
        "\n",
        "\n",
        "@app.get(\"/\")\n",
        "async def main():\n",
        "    return \"Есть два стула на одном адам точеный на другом сигмоида на какой сам сядей на какой аутпут посадишь\"\n",
        "\n",
        "\n",
        "\n",
        "@app.get('/text2image/')\n",
        "async def detect_spam_query(message: str):\n",
        "  text = trans(translator,message)\n",
        "  gen(text)\n",
        "  \n",
        "  return FileResponse(text+'.png')\n",
        "\n",
        "\n",
        "\n",
        "\n",
        "import nest_asyncio\n",
        "from pyngrok import ngrok\n",
        "import uvicorn\n",
        "\n",
        "ngrok_tunnel = ngrok.connect(8000)\n",
        "print('Public URL:', ngrok_tunnel.public_url)\n",
        "nest_asyncio.apply()\n",
        "uvicorn.run(app, port=8000,timeout_keep_alive=100)"
      ],
      "execution_count": null,
      "outputs": []
    },
    {
      "cell_type": "code",
      "metadata": {
        "id": "7HYI01KnvThL"
      },
      "source": [
        "cd /content"
      ],
      "execution_count": null,
      "outputs": []
    },
    {
      "cell_type": "code",
      "metadata": {
        "id": "2hbwogVnu0kf"
      },
      "source": [
        "text2image('кот спит на ноутбуке яблоко')"
      ],
      "execution_count": null,
      "outputs": []
    },
    {
      "cell_type": "code",
      "metadata": {
        "id": "EkhAJojb1nCG"
      },
      "source": [
        "pip install fastapi"
      ],
      "execution_count": null,
      "outputs": []
    },
    {
      "cell_type": "code",
      "metadata": {
        "id": "Fs026MsbuAvV"
      },
      "source": [
        "\n",
        "from fastapi import FastAPI\n",
        "app = FastAPI()\n",
        "\n",
        "import io\n",
        "from starlette.responses import StreamingResponse\n",
        "@app.get(\"/predict/{sentence}\")\n",
        "def predict(sentence: str):\n",
        "    \n",
        "  \n",
        "\n",
        "    return {\"image\": text2image(sentence) }"
      ],
      "execution_count": null,
      "outputs": []
    },
    {
      "cell_type": "code",
      "metadata": {
        "id": "l91HyIOsvz4W"
      },
      "source": [
        ""
      ],
      "execution_count": null,
      "outputs": []
    },
    {
      "cell_type": "markdown",
      "metadata": {
        "id": "5u-a9GeAHb71"
      },
      "source": [
        "# Clip arts"
      ]
    },
    {
      "cell_type": "code",
      "metadata": {
        "id": "a-3O0PwaHg21"
      },
      "source": [
        "!pip install big-sleep --upgrade\n",
        "#!pip install moviepy for music + video doesnt implimented\n",
        "!pip install googletrans==3.1.0a0\n",
        "!pip install natsort"
      ],
      "execution_count": null,
      "outputs": []
    },
    {
      "cell_type": "code",
      "metadata": {
        "id": "YQ3A1OmHHoiQ"
      },
      "source": [
        "path='/content/text.txt'#@param {type:\"string\"}\n",
        "file1 = open(path, 'r')\n",
        "data = file1.readlines()\n"
      ],
      "execution_count": null,
      "outputs": []
    },
    {
      "cell_type": "code",
      "metadata": {
        "id": "QppQUm5m9hIy"
      },
      "source": [
        "data"
      ],
      "execution_count": null,
      "outputs": []
    },
    {
      "cell_type": "code",
      "metadata": {
        "id": "3VAUmCsFjLJB"
      },
      "source": [
        "!zip -r imags.zip /content/images"
      ],
      "execution_count": null,
      "outputs": []
    },
    {
      "cell_type": "code",
      "metadata": {
        "id": "Y2bRffTcLlpv"
      },
      "source": [
        "!cd ./content"
      ],
      "execution_count": null,
      "outputs": []
    },
    {
      "cell_type": "code",
      "metadata": {
        "id": "oXU9s5SPLvAW"
      },
      "source": [
        "ls"
      ],
      "execution_count": null,
      "outputs": []
    },
    {
      "cell_type": "code",
      "metadata": {
        "id": "JshoR2LSLqFD"
      },
      "source": [
        "!rm -r images"
      ],
      "execution_count": null,
      "outputs": []
    },
    {
      "cell_type": "code",
      "metadata": {
        "id": "oN1ovzR5sjOo"
      },
      "source": [
        "!mkdir images\n",
        "!cd images"
      ],
      "execution_count": null,
      "outputs": []
    },
    {
      "cell_type": "code",
      "metadata": {
        "id": "OB3SfI9EgoBJ"
      },
      "source": [
        "cd images"
      ],
      "execution_count": null,
      "outputs": []
    },
    {
      "cell_type": "code",
      "metadata": {
        "id": "ci33tOvAhQKS"
      },
      "source": [
        "cd /content"
      ],
      "execution_count": null,
      "outputs": []
    },
    {
      "cell_type": "code",
      "metadata": {
        "id": "2CNejWeFIFyk"
      },
      "source": [
        "imag = 'Painting by Viktor Vasnetsov: The girl looks into her reflection in a forest swamp..46.png'"
      ],
      "execution_count": null,
      "outputs": []
    },
    {
      "cell_type": "code",
      "metadata": {
        "id": "PuvTNR7rIDxV"
      },
      "source": [
        "trans(translator,imag.replace('_',' '),'ru')"
      ],
      "execution_count": null,
      "outputs": []
    },
    {
      "cell_type": "code",
      "metadata": {
        "id": "hwNsOZvji1Yj"
      },
      "source": [
        "import os\n",
        "import natsort\n",
        "from google.colab import files\n",
        "for dir in (os.listdir('/content/images')):\n",
        "  for image in natsort.natsorted(os.listdir('/content/images/'+dir))[len(os.listdir('/content/images/'+dir))-1:]:\n",
        "    print(trans(translator,image.replace('_',' '),'ru'))\n",
        "   # os.rename('/content/images/'+dir+'/'+image,('/content/images/'+dir+'/'+trans(translator,image.replace('_',' '),'ru')).replace(' ','_')[:20])\n",
        "    #files.download('/content/images/'+dir+'/'+trans(translator,image.replace('_',' '),'ru'))\n",
        "    #print(trans(translator,image.replace('_',' '),'ru'))"
      ],
      "execution_count": null,
      "outputs": []
    },
    {
      "cell_type": "code",
      "metadata": {
        "id": "Dq3ucNbd-efi"
      },
      "source": [
        "ls"
      ],
      "execution_count": null,
      "outputs": []
    },
    {
      "cell_type": "code",
      "metadata": {
        "id": "igcuG074HDSk"
      },
      "source": [
        "cd images"
      ],
      "execution_count": null,
      "outputs": []
    },
    {
      "cell_type": "code",
      "metadata": {
        "id": "lgkSSbzKHlLf"
      },
      "source": [
        "from tqdm.notebook import trange\n",
        "from IPython.display import Image, display\n",
        "import os\n",
        "from big_sleep import Imagine\n",
        "from random import randint\n",
        "\n",
        "#TEXT = 'University  sport club logotype ' #@param {type:\"string\"}\n",
        "SAVE_EVERY =  1#@param {type:\"number\"}\n",
        "SAVE_PROGRESS = False #@param {type:\"boolean\"}\n",
        "LEARNING_RATE = 5e-2 #@param {type:\"number\"}\n",
        "\n",
        "fps=30\n",
        "from googletrans import Translator\n",
        "\n",
        "def trans(translator,text,lang):\n",
        "  trans = translator.translate(str(text),dest=lang)\n",
        "  return trans.text\n",
        "translator = Translator()\n",
        "\n",
        "\n",
        "def gen(j):\n",
        "\n",
        "  for i in range(len(data)):\n",
        "    \n",
        "    TEXT=trans(translator,(data[i].replace('.','')).replace(',',''),lang='en')\n",
        "    print(TEXT)\n",
        "\n",
        "    curr_d= \"./\"+str(i)  \n",
        "    os.mkdir(curr_d)\n",
        "   \n",
        "    os.chdir(curr_d)\n",
        "\n",
        "\n",
        "    \n",
        "  \n",
        "\n",
        "  \n",
        "  \n",
        "    images=[]\n",
        "    model = Imagine(\n",
        "    text = TEXT,\n",
        "    save_every = SAVE_EVERY,\n",
        "    lr = LEARNING_RATE,\n",
        "    iterations = 2,\n",
        "    save_progress = SAVE_PROGRESS,\n",
        "    seed = randint(0,1000)\n",
        "    )\n",
        "    for epoch in trange(2, desc = 'epochs'):#20\n",
        "       for i in trange(200, desc = 'iteration'):#1000\n",
        "        model.train_step(epoch, i)\n",
        "\n",
        "        if i == 0 or i % model.save_every != 0:\n",
        "            continue\n",
        "\n",
        "        #filename = TEXT.replace(' ', '_')\n",
        "        #try format replacement\n",
        "        \n",
        "          \n",
        "        images+=[ Image(f'{[i]}.png')]\n",
        "        #display(image)\n",
        "    os.chdir(f\"/content/images/{j}\")\n",
        "\n",
        "   \n",
        "  \n",
        "\n",
        "   \n",
        "  \n"
      ],
      "execution_count": null,
      "outputs": []
    },
    {
      "cell_type": "code",
      "metadata": {
        "id": "VeqDcnSIonn_"
      },
      "source": [
        "cd /content/images"
      ],
      "execution_count": null,
      "outputs": []
    },
    {
      "cell_type": "code",
      "metadata": {
        "id": "bnmJbGecp68q"
      },
      "source": [
        "ls"
      ],
      "execution_count": null,
      "outputs": []
    },
    {
      "cell_type": "code",
      "metadata": {
        "id": "pJEwSXZhnt3e"
      },
      "source": [
        "\n",
        "for j in range(1,2):\n",
        "  curd=f'./{j}'\n",
        "  os.mkdir(curd)\n",
        "  os.chdir(f\"/content/images/{j}\")\n",
        "  #print(os.path.abspath(os.getcwd()))\n",
        "  gen(j)\n",
        "  os.chdir(\"/content/images\")\n"
      ],
      "execution_count": null,
      "outputs": []
    },
    {
      "cell_type": "code",
      "metadata": {
        "id": "6OZGv6nGXVuZ"
      },
      "source": [
        "ls"
      ],
      "execution_count": null,
      "outputs": []
    },
    {
      "cell_type": "code",
      "metadata": {
        "id": "y8xfBou1HvQ3"
      },
      "source": [
        "cd images"
      ],
      "execution_count": null,
      "outputs": []
    },
    {
      "cell_type": "code",
      "metadata": {
        "id": "Wh1xXa_IHw6f"
      },
      "source": [
        "!rm -r 0"
      ],
      "execution_count": null,
      "outputs": []
    },
    {
      "cell_type": "code",
      "metadata": {
        "id": "wZV4ZQhbNd3f"
      },
      "source": [
        "/content/images/0"
      ],
      "execution_count": null,
      "outputs": []
    },
    {
      "cell_type": "code",
      "metadata": {
        "id": "Aq65BIfzNMe9"
      },
      "source": [
        "import natsort \n",
        "import os\n",
        "images=[]\n",
        "dirs=natsort.natsorted(os.listdir('./'))[0]\n",
        "for dir in ((dirs)):\n",
        "  #print(dirs[dir])\n",
        "  print('/'+str(dir))\n",
        "  #d = natsort.natsorted(os.listdir())\n",
        "  for img in natsort.natsorted(os.listdir('./'+str(dir) )):\n",
        "    for im in natsort.natsorted(os.listdir('./'+str(dir)+f'/{img}')):\n",
        "      #print(im)\n",
        "      images+=[('./'+str(dir)+f'/{img}'+f'/{im}')]"
      ],
      "execution_count": null,
      "outputs": []
    },
    {
      "cell_type": "code",
      "metadata": {
        "id": "1R9A9gDfXtz0"
      },
      "source": [
        "cd /content"
      ],
      "execution_count": null,
      "outputs": []
    },
    {
      "cell_type": "code",
      "metadata": {
        "id": "gF70qeKCjpyR"
      },
      "source": [
        "while true:\n",
        "  print('a')"
      ],
      "execution_count": null,
      "outputs": []
    },
    {
      "cell_type": "code",
      "metadata": {
        "id": "b5fNRmCsVZU9"
      },
      "source": [
        "pth='/content/painting_by_Leonardo_Da_Vinci_..._when_its_time_to_pay_the_bill_and_everyone_in_hope_looks_at_Jesus.png'\n",
        "from PIL import Image\n",
        "image = Image.open(pth)\n",
        "\n",
        "width, height = image.size\n",
        "  \n",
        "\n",
        "left = 0\n",
        "top = int(512.0/(3))\n",
        "right = width\n",
        "bottom = int(512.0)\n",
        "  \n",
        "\n",
        "image = image.crop((left, top, right, bottom))\n",
        "# creating thumbnail\n",
        "image.save('p4.jpg')\n",
        "#image.show()"
      ],
      "execution_count": null,
      "outputs": []
    },
    {
      "cell_type": "code",
      "metadata": {
        "id": "Prw29cK8gNkD"
      },
      "source": [
        "for dir in os.listdir('/content/images'):\n",
        "  for image in os.listdir('/content/images/'+dir):\n",
        "    if image.endswith('.png'):\n",
        "      i = Image.open('/content/images/'+dir+'/'+image)\n",
        "      width, height = i.size\n",
        "      left = 0\n",
        "      top = int(512.0/(3))\n",
        "      right = width\n",
        "      bottom = int(512.0)\n",
        "      i = i.crop((left, top, right, bottom))\n",
        "      i.save('/content/images/'+dir+'/'+'30x20.png')"
      ],
      "execution_count": null,
      "outputs": []
    },
    {
      "cell_type": "code",
      "metadata": {
        "id": "kI3AYljkfvSy"
      },
      "source": [
        "r = Image.open('/content/p4.jpg')\n",
        "print(r.size)"
      ],
      "execution_count": null,
      "outputs": []
    },
    {
      "cell_type": "code",
      "metadata": {
        "id": "cV8urcp3YCk5"
      },
      "source": [
        "int(512.0/(3))"
      ],
      "execution_count": null,
      "outputs": []
    },
    {
      "cell_type": "code",
      "metadata": {
        "id": "a3g8tZDThcbS"
      },
      "source": [
        "cd /content"
      ],
      "execution_count": null,
      "outputs": []
    },
    {
      "cell_type": "code",
      "metadata": {
        "id": "Q6khqFUxG9pA"
      },
      "source": [
        "!zip -r /content/file.zip /content/images"
      ],
      "execution_count": null,
      "outputs": []
    },
    {
      "cell_type": "code",
      "metadata": {
        "id": "Lgz3uXKhKLhf"
      },
      "source": [
        "from google.colab import files\n",
        "files.download('/content/file.zip')"
      ],
      "execution_count": null,
      "outputs": []
    },
    {
      "cell_type": "code",
      "metadata": {
        "id": "2srBPOyAc4AH"
      },
      "source": [
        "!zip -r imgs.zip . -i /images"
      ],
      "execution_count": null,
      "outputs": []
    },
    {
      "cell_type": "code",
      "metadata": {
        "id": "OzI5wPA1YEvj"
      },
      "source": [
        "int(512.0*(2/3))"
      ],
      "execution_count": null,
      "outputs": []
    },
    {
      "cell_type": "markdown",
      "metadata": {
        "id": "vgcBj6iE2KfI"
      },
      "source": [
        "# clip music"
      ]
    },
    {
      "cell_type": "markdown",
      "metadata": {
        "id": "r5ZkvytmRXyV"
      },
      "source": [
        "## todo\n",
        "- fading on transitions\n",
        "- make a bitmap == map of local extremums\n",
        "- using some flashes on bit map\n",
        "- less then 5 seconds on "
      ]
    },
    {
      "cell_type": "markdown",
      "metadata": {
        "id": "UFqpLNcqRqnd"
      },
      "source": [
        "## code"
      ]
    },
    {
      "cell_type": "code",
      "metadata": {
        "id": "mwBKyDgV2NCb"
      },
      "source": [
        "!pip install big-sleep --upgrade\n",
        "!pip install moviepy\n",
        "!pip install googletrans==3.1.0a0\n",
        "!pip install natsort"
      ],
      "execution_count": null,
      "outputs": []
    },
    {
      "cell_type": "code",
      "metadata": {
        "id": "ftbQ94x51qQg"
      },
      "source": [
        "!mkdir images"
      ],
      "execution_count": null,
      "outputs": []
    },
    {
      "cell_type": "code",
      "metadata": {
        "id": "hg8xaBCj1svi"
      },
      "source": [
        "cd images"
      ],
      "execution_count": null,
      "outputs": []
    },
    {
      "cell_type": "code",
      "metadata": {
        "id": "ClCnA_fT2WdF"
      },
      "source": [
        "file1 = open('/content/text.txt', 'r')\n",
        "full = file1.readlines()\n",
        "lines = list(set(full))\n",
        "\n"
      ],
      "execution_count": null,
      "outputs": []
    },
    {
      "cell_type": "code",
      "metadata": {
        "id": "WIOj1S4SyBZw"
      },
      "source": [
        "import json\n",
        "\n",
        "data = {}\n",
        "data['lines']=[]\n",
        "for line in full:\n",
        "  data['lines'].append({'text':line,\n",
        "              'time':3\n",
        "      \n",
        "\n",
        "  })"
      ],
      "execution_count": null,
      "outputs": []
    },
    {
      "cell_type": "code",
      "metadata": {
        "id": "gviOqqcFyfQj"
      },
      "source": [
        "data = [{\"start\":0,\"end\":3,\"text\":\"Цвет настроения синий\"},\n",
        "        {\"start\":9,\"end\":12,\"text\":\"Цвет настроения синий\"},\n",
        "        {\"start\":17,\"end\":22,\"text\":\"Она убежала от нелепой суеты\"},\n",
        "        {\"start\":24,\"end\":30,\"text\":\"Ни капли стеснения с приходом темноты\"},\n",
        "        {\"start\":31,\"end\":38,\"text\":\"Страсть, страсть над ней имеет власть\"},\n",
        "        {\"start\":40,\"end\":45,\"text\":\"Все, громче звук и понеслась\"},\n",
        "        {\"start\":46,\"end\":49,\"text\":\"Цвет настроения синий\"},\n",
        "        {\"start\":50,\"end\":53,\"text\":\"Внутри Мартини, а в руках бикини\"},\n",
        "        {\"start\":54,\"end\":56,\"text\":\"Под песню Синий иней\"},\n",
        "        {\"start\":57,\"end\":60,\"text\":\"Она так чувствует себя Богиней\"},\n",
        "        {\"start\":61,\"end\":64,\"text\":\"Цвет настроения синий\"},\n",
        "        {\"start\":65,\"end\":68,\"text\":\"Внутри Мартини, а в руках бикини\"},\n",
        "        {\"start\":69,\"end\":71,\"text\":\"Под песню Синий иней\"},\n",
        "        {\"start\":71,\"end\":74,\"text\":\"Она так чувствует себя Богиней\"},\n",
        "        {\"start\":79,\"end\":84,\"text\":\"Влияние ночи очень трудно предсказать\"},\n",
        "        {\"start\":86,\"end\":92,\"text\":\"По телу мурашки и ей хочется кричать\"},\n",
        "        {\"start\":93,\"end\":100,\"text\":\"Да, да она сейчас звезда\"},\n",
        "        {\"start\":101,\"end\":109,\"text\":\"Все предрассудки ерунда\"},\n",
        "        {\"start\":110,\"end\":111,\"text\":\"Цвет настроения синий\"},\n",
        "        {\"start\":111,\"end\":114,\"text\":\"Внутри Мартини, а в руках бикини\"},\n",
        "        {\"start\":115,\"end\":118,\"text\":\"Под песню Синий иней\"},\n",
        "        {\"start\":119,\"end\":123,\"text\":\"Она так чувствует себя Богиней\"},\n",
        "        {\"start\":124,\"end\":127,\"text\":\"Цвет настроения синий\"},\n",
        "        {\"start\":128,\"end\":130,\"text\":\"Внутри Мартини, а в руках бикини\"},\n",
        "        {\"start\":131,\"end\":133,\"text\":\"Под песню Синий иней\"},\n",
        "        {\"start\":134,\"end\":137,\"text\":\"Она так чувствует себя Богиней\"},\n",
        "        {\"start\":138,\"end\":140,\"text\":\"Цвет настроения\"},\n",
        "        {\"start\":142,\"end\":144,\"text\":\"Цвет настроения\"},\n",
        "        {\"start\":145,\"end\":146,\"text\":\"Цвет настроения\"},\n",
        "        {\"start\":147,\"end\":149,\"text\":\"Цвет настроения\"},\n",
        "        {\"start\":151,\"end\":153,\"text\":\"Цвет настроения синий\"},\n",
        "        {\"start\":154,\"end\":157,\"text\":\"Цвет настроения синий\"},\n",
        "        {\"start\":158,\"end\":161,\"text\":\"Внутри Мартини, а в руках бикини\"},\n",
        "        {\"start\":162,\"end\":164,\"text\":\"Под песню Синий иней\"},\n",
        "        {\"start\":165,\"end\":169,\"text\":\"Она так чувствует себя Богиней\"},\n",
        "        {\"start\":173,\"end\":177,\"text\":\"Цвет настроения синий\"},\n",
        "        {\"start\":178,\"end\":183,\"text\":\"Внутри Мартини, а в руках бикини\"},\n",
        "        {\"start\":185,\"end\":188,\"text\":\"Под песню Синий иней\"},\n",
        "        {\"start\":190,\"end\":202,\"text\":\"Она так чувствует себя Богиней\"}]"
      ],
      "execution_count": null,
      "outputs": []
    },
    {
      "cell_type": "code",
      "metadata": {
        "id": "Tyr9gP1ByUuC"
      },
      "source": [
        "data = {'lines': [{'text': 'Цвет настроения синий\\n', 'time': 3},\n",
        "  {'text': 'Цвет настроения синий\\n', 'time': 3},\n",
        "  {'text': 'Она убежала от нелепой суеты\\n', 'time': 3},\n",
        "  {'text': 'Ни капли стеснения с приходом темноты\\n', 'time': 3},\n",
        "  {'text': 'Страсть, страсть над ней имеет власть\\n', 'time': 3},\n",
        "  {'text': 'Все, громче звук и понеслась\\n', 'time': 3},\n",
        "  {'text': 'Цвет настроения синий\\n', 'time': 3},\n",
        "  {'text': 'Внутри Мартини, а в руках бикини\\n', 'time': 3},\n",
        "  {'text': 'Под песню Синий иней\\n', 'time': 3},\n",
        "  {'text': 'Она так чувствует себя Богиней\\n', 'time': 3},\n",
        "  {'text': 'Цвет настроения синий\\n', 'time': 3},\n",
        "  {'text': 'Внутри Мартини, а в руках бикини\\n', 'time': 3},\n",
        "  {'text': 'Под песню Синий иней\\n', 'time': 3},\n",
        "  {'text': 'Она так чувствует себя Богиней\\n', 'time': 3},\n",
        "  {'text': 'Влияние ночи очень трудно предсказать\\n', 'time': 3},\n",
        "  {'text': 'По телу мурашки и ей хочется кричать\\n', 'time': 3},\n",
        "  {'text': 'Да, да она сейчас звезда\\n', 'time': 3},\n",
        "  {'text': 'Все предрассудки ерунда\\n', 'time': 3},\n",
        "  {'text': 'Цвет настроения синий\\n', 'time': 3},\n",
        "  {'text': 'Внутри Мартини, а в руках бикини\\n', 'time': 3},\n",
        "  {'text': 'Под песню Синий иней\\n', 'time': 3},\n",
        "  {'text': 'Она так чувствует себя Богиней\\n', 'time': 3},\n",
        "  {'text': 'Цвет настроения синий\\n', 'time': 3},\n",
        "  {'text': 'Внутри Мартини, а в руках бикини\\n', 'time': 3},\n",
        "  {'text': 'Под песню Синий иней\\n', 'time': 3},\n",
        "  {'text': 'Она так чувствует себя Богиней\\n', 'time': 3},\n",
        "  {'text': 'Цвет настроения\\n', 'time': 3},\n",
        "  {'text': 'Цвет настроения\\n', 'time': 3},\n",
        "  {'text': 'Цвет настроения\\n', 'time': 3},\n",
        "  {'text': 'Цвет настроения синий\\n', 'time': 3},\n",
        "  {'text': 'Цвет настроения синий\\n', 'time': 3},\n",
        "  {'text': 'Внутри Мартини, а в руках бикини\\n', 'time': 3},\n",
        "  {'text': 'Под песню Синий иней\\n', 'time': 3},\n",
        "  {'text': 'Она так чувствует себя Богиней\\n', 'time': 3},\n",
        "  {'text': 'Цвет настроения синий\\n', 'time': 3},\n",
        "  {'text': 'Внутри Мартини, а в руках бикини\\n', 'time': 3},\n",
        "  {'text': 'Под песню Синий иней\\n', 'time': 3},\n",
        "  {'text': 'Она так чувствует себя Богиней', 'time': 3}]}\n"
      ],
      "execution_count": null,
      "outputs": []
    },
    {
      "cell_type": "code",
      "metadata": {
        "id": "_1fk0ToJtzwM"
      },
      "source": [
        "data = [{\"start\": \"00:00.53\", \"text\": \"Цвет настроения синий\"}, \n",
        "        {\"start\": \"00:09.38\", \"text\": \"Цвет настроения синий\"}, \n",
        "        {\"start\": \"00:16.64\", \"text\": \"Она убежала от нелепой суеты\"}, \n",
        "        {\"start\": \"00:24.21\", \"text\": \"Ни капли стеснения с приходом темноты\"},\n",
        "        {\"start\": \"00:31.03\", \"text\": \"Страсть, страсть над ней имеет власть\"}, \n",
        "        {\"start\": \"00:38.83\", \"text\": \"Все, громче звук и понеслась\"}, \n",
        "        {\"start\": \"00:46.28\", \"text\": \"Цвет настроения синий\"},\n",
        "        {\"start\": \"00:49.98\", \"text\": \"Внутри Мартини, а в руках бикини\"}]\n",
        "\"\"\"\n",
        "        {\"start\": \"00:53.85\", \"text\": \"Под песню Синий иней\"},\n",
        "        {\"start\": \"00:57.30\", \"text\": \"Она так чувствует себя Богиней\"},\n",
        "        {\"start\": \"01:01.44\", \"text\": \"Цвет настроения синий\"}, \n",
        "        {\"start\": \"01:05.08\", \"text\": \"Внутри Мартини, а в руках бикини\"},\n",
        "        {\"start\": \"01:08.87\", \"text\": \"Под песню Синий иней\"}, \n",
        "        {\"start\": \"01:12.16\", \"text\": \"Она так чувствует себя Богиней\"},\n",
        "        {\"start\": \"01:18.13\", \"text\": \"Влияние ночи очень трудно предсказать\"},\n",
        "        {\"start\": \"01:26.46\", \"text\": \"По телу мурашки и ей хочется кричать\"}, \n",
        "        {\"start\": \"01:33.05\", \"text\": \"Да, да она сейчас звезда\"}, \n",
        "        {\"start\": \"01:40.40\", \"text\": \"Все предрассудки ерунда\"}, \n",
        "        {\"start\": \"01:48.36\", \"text\": \"Цвет настроения синий\"}, \n",
        "        {\"start\": \"01:51.78\", \"text\": \"Внутри Мартини, а в руках бикини\"},\n",
        "        {\"start\": \"01:55.41\", \"text\": \"Под песню Синий иней\"}, \n",
        "        {\"start\": \"01:59.09\", \"text\": \"Она так чувствует себя Богиней\"},\n",
        "        {\"start\": \"02:03.06\", \"text\": \"Цвет настроения синий\"},\n",
        "        {\"start\": \"02:06.61\", \"text\": \"Внутри Мартини, а в руках бикини\"},\n",
        "        {\"start\": \"02:10.54\", \"text\": \"Под песню Синий иней\"},\n",
        "        {\"start\": \"02:14.02\", \"text\": \"Она так чувствует себя Богиней\"},\n",
        "        {\"start\": \"02:26.57\", \"text\": \"Цвет настроения\"},\n",
        "        {\"start\": \"02:34.50\", \"text\": \"Цвет настроения\"},\n",
        "        {\"start\": \"02:37.89\", \"text\": \"Цвет настроения\"},\n",
        "        {\"start\": \"02:40.10\", \"text\": \"Цвет настроения синий\"},\n",
        "        {\"start\": \"02:48.13\", \"text\": \"Цвет настроения синий\"},\n",
        "        {\"start\": \"02:51.73\", \"text\": \"Внутри Мартини, а в руках бикини\"},\n",
        "        {\"start\": \"02:55.58\", \"text\": \"Под песню Синий иней\"}, \n",
        "        {\"start\": \"02:58.95\", \"text\": \"Она так чувствует себя Богиней\"},\n",
        "        {\"start\": \"03:03.14\", \"text\": \"Цвет настроения синий\"},\n",
        "        {\"start\": \"03:06.41\", \"text\": \"Внутри Мартини, а в руках бикини\"},\n",
        "        {\"start\": \"03:10.90\", \"text\": \"Под песню Синий иней\"},\n",
        "        {\"start\": \"03:14.13\", \"text\": \"Она так чувствует себя Богиней\"},\n",
        "        {\"start\": \"03:18.98\", \"text\": \"\"}]\n",
        "\n",
        "\"\"\"\n"
      ],
      "execution_count": null,
      "outputs": []
    },
    {
      "cell_type": "code",
      "metadata": {
        "id": "oAcMPKXWoAH9"
      },
      "source": [
        ""
      ],
      "execution_count": null,
      "outputs": []
    },
    {
      "cell_type": "code",
      "metadata": {
        "id": "v_imILi935QS"
      },
      "source": [
        "len(data)"
      ],
      "execution_count": null,
      "outputs": []
    },
    {
      "cell_type": "code",
      "metadata": {
        "id": "E0MUM-tMt5xf"
      },
      "source": [
        "ls"
      ],
      "execution_count": null,
      "outputs": []
    },
    {
      "cell_type": "code",
      "metadata": {
        "id": "bR84ugmkb2Ry"
      },
      "source": [
        "cd /content"
      ],
      "execution_count": null,
      "outputs": []
    },
    {
      "cell_type": "code",
      "metadata": {
        "id": "_q_0TkJFwCjW"
      },
      "source": [
        "cd images"
      ],
      "execution_count": null,
      "outputs": []
    },
    {
      "cell_type": "code",
      "metadata": {
        "id": "G5fMI2T3ycO2"
      },
      "source": [
        "!rm -r images"
      ],
      "execution_count": null,
      "outputs": []
    },
    {
      "cell_type": "code",
      "metadata": {
        "id": "YUteBvK90YqE"
      },
      "source": [
        "!mkdir images"
      ],
      "execution_count": null,
      "outputs": []
    },
    {
      "cell_type": "code",
      "metadata": {
        "id": "wC-g4aEHAozz"
      },
      "source": [
        "!ls"
      ],
      "execution_count": null,
      "outputs": []
    },
    {
      "cell_type": "code",
      "metadata": {
        "id": "dIBnH58qwzHv"
      },
      "source": [
        "def get_sec(time_str):\n",
        "    \"\"\"\n",
        "    ------\n",
        "    \"\"\"\n",
        "    m = time_str.split(':')[0]\n",
        "    s = (time_str.split(':')[1]).split('.')[0]\n",
        "    #print(s)\n",
        "    ms =  (time_str.split(':')[1]).split('.')[1]\n",
        "    return  float(m) * 60.0 + float(s) +float(ms)/100\n",
        "\n",
        "get_sec(\"03:18.98\")"
      ],
      "execution_count": null,
      "outputs": []
    },
    {
      "cell_type": "code",
      "metadata": {
        "id": "tW_NmbebmEsF"
      },
      "source": [
        "((get_sec(data[(3+1)]['start']) - get_sec(data[(3)]['start']))*fps )"
      ],
      "execution_count": null,
      "outputs": []
    },
    {
      "cell_type": "code",
      "metadata": {
        "id": "IpvTQORJw57h"
      },
      "source": [
        "get_sec(\"00:09.38\")"
      ],
      "execution_count": null,
      "outputs": []
    },
    {
      "cell_type": "code",
      "metadata": {
        "id": "fnz9MUuO1od4"
      },
      "source": [
        "from tqdm.notebook import trange\n",
        "from IPython.display import Image, display\n",
        "import os\n",
        "from big_sleep import Imagine\n",
        "from random import randint\n",
        "\n",
        "#TEXT = 'University  sport club logotype ' #@param {type:\"string\"}\n",
        "SAVE_EVERY =  1#@param {type:\"number\"}\n",
        "SAVE_PROGRESS = True #@param {type:\"boolean\"}\n",
        "LEARNING_RATE = 5e-2 #@param {type:\"number\"}\n",
        "fps=30#@param {type: \"number\"}\n",
        "SEED = 0 #@param {type: \"number\"}\n",
        "#name=''#@param {type:\"string\"}\n",
        "\n",
        "from googletrans import Translator\n",
        "\n",
        "def trans(translator,text):\n",
        "  trans = translator.translate(str(text),dest='en')\n",
        "  return trans.text\n",
        "translator = Translator()\n",
        "\n",
        "images=[]\n",
        "for i in range(len(data)-1):\n",
        "  print(data[i])\n",
        "  if (i)>0:\n",
        "    TEXT=trans(translator,data[i]['text'])\n",
        "    print(TEXT)\n",
        "    curr_d= \"./images\"+str(i)  \n",
        "    os.mkdir(curr_d)\n",
        "   \n",
        "    os.chdir(curr_d)\n",
        "\n",
        "\n",
        "    count = 0\n",
        "  \n",
        "\n",
        "\n",
        "    model = Imagine(\n",
        "    text = TEXT,\n",
        "    save_every = SAVE_EVERY,\n",
        "    lr = LEARNING_RATE,\n",
        "    # умножать разницу на фпс \n",
        "    iterations = int((get_sec(data[(i+1)]['start']) - get_sec(data[(i)]['start']))*fps +10),\n",
        "    save_progress = SAVE_PROGRESS,\n",
        "    seed = randint(0,100)\n",
        "    )\n",
        "    for epoch in trange(1, desc = 'epochs'):#20\n",
        "       for i in trange(int((get_sec(data[(i+1)]['start']) - get_sec(data[(i)]['start']))*fps +10 ), desc = 'iteration'):#1000\n",
        "        model.train_step(epoch, i)\n",
        "\n",
        "        \n",
        "\n",
        "        #filename = TEXT.replace(' ', '_')\n",
        "        #try format replacement\n",
        "        if i>5:\n",
        "          \n",
        "          images+=[ Image(f'./{i}.png')]\n",
        "        #display(image)\n",
        "    os.chdir(\"/content/images\")\n",
        "   \n",
        "  \n",
        "\n",
        "   \n",
        "  \n"
      ],
      "execution_count": null,
      "outputs": []
    },
    {
      "cell_type": "code",
      "metadata": {
        "id": "EITxq6FL2Gtx"
      },
      "source": [
        "cd /content"
      ],
      "execution_count": null,
      "outputs": []
    },
    {
      "cell_type": "code",
      "metadata": {
        "id": "n2-Ogic1hQ-B"
      },
      "source": [
        "!ls"
      ],
      "execution_count": null,
      "outputs": []
    },
    {
      "cell_type": "code",
      "metadata": {
        "id": "N_dWy1bHhOJO"
      },
      "source": [
        "cd /content/images"
      ],
      "execution_count": null,
      "outputs": []
    },
    {
      "cell_type": "code",
      "metadata": {
        "id": "fFEoCzdpAwtc"
      },
      "source": [
        "import natsort \n",
        "import os\n",
        "file1 = open('text.txt', 'r')\n",
        "folder='images'\n",
        "full = file1.readlines()\n",
        "ls = list(set(full))\n",
        "images=[]\n",
        "for line in full:\n",
        "  for img in natsort.natsorted(os.listdir('images'+str(ls.index(line)))):\n",
        "    images+=[('images'+str(ls.index(line))+'/'+img)]"
      ],
      "execution_count": null,
      "outputs": []
    },
    {
      "cell_type": "code",
      "metadata": {
        "id": "E4Q44jjuKWmi"
      },
      "source": [
        "import natsort \n",
        "import os\n",
        "images=[]\n",
        "dirs=natsort.natsorted(os.listdir('./'))\n",
        "for dir in range(len(dirs)):\n",
        "  #print(dirs[dir])\n",
        "  #d = natsort.natsorted(os.listdir())\n",
        "  for img in natsort.natsorted(os.listdir('./images' +str(dir+1))[8:] ):\n",
        "    \n",
        "    \n",
        "    images+=[('./images'+str(dir+1)+'/'+img)]"
      ],
      "execution_count": null,
      "outputs": []
    },
    {
      "cell_type": "code",
      "metadata": {
        "id": "43VclcwwKlG2"
      },
      "source": [
        "len(images)"
      ],
      "execution_count": null,
      "outputs": []
    },
    {
      "cell_type": "code",
      "metadata": {
        "id": "NNf2ni7ohbl_"
      },
      "source": [
        "from google.colab.patches import cv2_imshow\n",
        "import cv2\n",
        "def fadeIn (img1, img2, len=10): #pass images here to fade between\n",
        "    img1=cv2.imread(img1)\n",
        "    img2=cv2.imread(img2)\n",
        "    dsts=[]\n",
        "    for IN in range(0,len):\n",
        "        fadein = IN/float(len)\n",
        "        dst = cv2.addWeighted( (img1), 1-fadein, (img2), fadein, 0)\n",
        "        dsts+=[dst]\n",
        "        cv2_imshow( dst)\n",
        "            \n",
        "        print(fadein)"
      ],
      "execution_count": null,
      "outputs": []
    },
    {
      "cell_type": "code",
      "metadata": {
        "id": "s_sQWrmOkGBn"
      },
      "source": [
        "fadeIn('images10/To_the_song_Blue_frost.24.png','images9/She_feels_so_Goddess.1.png')"
      ],
      "execution_count": null,
      "outputs": []
    },
    {
      "cell_type": "code",
      "metadata": {
        "id": "1Htnekwc9nv_"
      },
      "source": [
        "for i in range(len(images)):\n",
        "  if (images[i-1].split('.')[0]) is not (images[i].split('.')[0]):\n",
        "    print(images[i-1] , images[i] )"
      ],
      "execution_count": null,
      "outputs": []
    },
    {
      "cell_type": "code",
      "metadata": {
        "id": "-NKGTMB6-bNv"
      },
      "source": [
        "frame = cv2.imread( images[0])\n",
        "frame.shape"
      ],
      "execution_count": null,
      "outputs": []
    },
    {
      "cell_type": "code",
      "metadata": {
        "id": "iJdjwn1Y8akd"
      },
      "source": [
        "import cv2\n",
        "import os\n",
        "\n",
        "\n",
        "\n",
        "\n",
        "\n",
        "frame = cv2.imread( images[0])\n",
        "height, width, layers = frame.shape\n",
        "#fourcc = cv2.VideoWriter_fourcc(*'MP4V')\n",
        "\n",
        "video = cv2.VideoWriter('outp2.avi', 0,fps, (height,width))\n",
        "\n",
        "for image in images:\n",
        "    video.write(cv2.imread( image))\n",
        "video.release()"
      ],
      "execution_count": null,
      "outputs": []
    },
    {
      "cell_type": "code",
      "metadata": {
        "id": "Z7b6jTHxKu7N"
      },
      "source": [
        "!ffmpeg -i outp2.avi out_ns4.mp4"
      ],
      "execution_count": null,
      "outputs": []
    },
    {
      "cell_type": "markdown",
      "metadata": {
        "id": "wuncFHMAqAcc"
      },
      "source": [
        "# Speech to timestamps"
      ]
    },
    {
      "cell_type": "markdown",
      "metadata": {
        "id": "onM786vMRuDQ"
      },
      "source": [
        "## Vosk"
      ]
    },
    {
      "cell_type": "code",
      "metadata": {
        "id": "9Ka24ZPDi_Y2"
      },
      "source": [
        "!git clone https://github.com/alphacep/vosk-api\n",
        "!cd vosk-api/python/example\n",
        "!wget https://alphacephei.com/vosk/models/vosk-model-ru-0.10.zip\n",
        "!unzip /content/vosk-model-ru-0.10.zip\n",
        "!mv vosk-model-ru-0.10 model\n"
      ],
      "execution_count": null,
      "outputs": []
    },
    {
      "cell_type": "code",
      "metadata": {
        "id": "0NBPqUqumfD5"
      },
      "source": [
        "!ffmpeg -i /content/test.mp3 -acodec pcm_s16le -ac 1 -ar 16000 out.wav"
      ],
      "execution_count": null,
      "outputs": []
    },
    {
      "cell_type": "code",
      "metadata": {
        "id": "m2MBSqV3kqJP"
      },
      "source": [
        "!python3 /content/vosk-api/python/example/test_simple.py out.wav"
      ],
      "execution_count": null,
      "outputs": []
    },
    {
      "cell_type": "code",
      "metadata": {
        "id": "X7b_f3xvmNK0"
      },
      "source": [
        "pip install vosk"
      ],
      "execution_count": null,
      "outputs": []
    },
    {
      "cell_type": "markdown",
      "metadata": {
        "id": "TL6zp4sDRwWz"
      },
      "source": [
        "## google cloaud api stt"
      ]
    },
    {
      "cell_type": "code",
      "metadata": {
        "id": "w5OpJgin9u9Q"
      },
      "source": [
        ""
      ],
      "execution_count": null,
      "outputs": []
    }
  ]
}